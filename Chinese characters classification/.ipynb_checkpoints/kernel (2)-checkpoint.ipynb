{
 "cells": [
  {
   "cell_type": "code",
   "execution_count": 1,
   "metadata": {
    "_cell_guid": "b1076dfc-b9ad-4769-8c92-a6c4dae69d19",
    "_uuid": "8f2839f25d086af736a60e9eeb907d3b93b6e0e5"
   },
   "outputs": [],
   "source": [
    "# This Python 3 environment comes with many helpful analytics libraries installed\n",
    "# It is defined by the kaggle/python docker image: https://github.com/kaggle/docker-python\n",
    "# For example, here's several helpful packages to load in \n",
    "\n",
    "import numpy as np # linear algebra\n",
    "import pandas as pd # data processing, CSV file I/O (e.g. pd.read_csv)\n",
    "import matplotlib.pyplot as plt\n",
    "\n",
    "# Input data files are available in the \"../input/\" directory.\n",
    "# For example, running this (by clicking run or pressing Shift+Enter) will list the files in the input directory\n",
    "\n",
    "import os\n",
    "\n",
    "# Any results you write to the current directory are saved as output."
   ]
  },
  {
   "cell_type": "code",
   "execution_count": 2,
   "metadata": {
    "_cell_guid": "79c7e3d0-c299-4dcb-8224-4455121ee9b0",
    "_uuid": "d629ff2d2480ee46fbb7e2d37f6b5fab8052498a"
   },
   "outputs": [],
   "source": [
    "data1 = np.load('train-1.npy')\n",
    "data2 = np.load('train-2.npy')\n",
    "data3 = np.load('train-3.npy')\n",
    "data4 = np.load('train-4.npy')\n",
    "test = np.load('test.npy')"
   ]
  },
  {
   "cell_type": "code",
   "execution_count": 3,
   "metadata": {
    "_uuid": "a04c10bf0aa2ef6e1b8ace81efe50cc54a1df707",
    "scrolled": true
   },
   "outputs": [
    {
     "ename": "ModuleNotFoundError",
     "evalue": "No module named 'skimage'",
     "output_type": "error",
     "traceback": [
      "\u001b[0;31m---------------------------------------------------------------------------\u001b[0m",
      "\u001b[0;31mModuleNotFoundError\u001b[0m                       Traceback (most recent call last)",
      "\u001b[0;32m<ipython-input-3-36272abe9f84>\u001b[0m in \u001b[0;36m<module>\u001b[0;34m\u001b[0m\n\u001b[0;32m----> 1\u001b[0;31m \u001b[0;32mfrom\u001b[0m \u001b[0mskimage\u001b[0m\u001b[0;34m.\u001b[0m\u001b[0mtransform\u001b[0m \u001b[0;32mimport\u001b[0m \u001b[0mresize\u001b[0m\u001b[0;34m\u001b[0m\u001b[0;34m\u001b[0m\u001b[0m\n\u001b[0m\u001b[1;32m      2\u001b[0m \u001b[0;34m\u001b[0m\u001b[0m\n\u001b[1;32m      3\u001b[0m \u001b[0;32mfor\u001b[0m \u001b[0mi\u001b[0m \u001b[0;32min\u001b[0m \u001b[0mrange\u001b[0m\u001b[0;34m(\u001b[0m\u001b[0mdata1\u001b[0m\u001b[0;34m.\u001b[0m\u001b[0mshape\u001b[0m\u001b[0;34m[\u001b[0m\u001b[0;36m0\u001b[0m\u001b[0;34m]\u001b[0m\u001b[0;34m)\u001b[0m\u001b[0;34m:\u001b[0m\u001b[0;34m\u001b[0m\u001b[0;34m\u001b[0m\u001b[0m\n\u001b[1;32m      4\u001b[0m     \u001b[0mdata1\u001b[0m\u001b[0;34m[\u001b[0m\u001b[0mi\u001b[0m\u001b[0;34m]\u001b[0m\u001b[0;34m[\u001b[0m\u001b[0;36m0\u001b[0m\u001b[0;34m]\u001b[0m \u001b[0;34m=\u001b[0m \u001b[0mresize\u001b[0m\u001b[0;34m(\u001b[0m\u001b[0mdata1\u001b[0m\u001b[0;34m[\u001b[0m\u001b[0mi\u001b[0m\u001b[0;34m]\u001b[0m\u001b[0;34m[\u001b[0m\u001b[0;36m0\u001b[0m\u001b[0;34m]\u001b[0m\u001b[0;34m,\u001b[0m \u001b[0;34m(\u001b[0m\u001b[0;36m28\u001b[0m\u001b[0;34m,\u001b[0m \u001b[0;36m28\u001b[0m\u001b[0;34m)\u001b[0m\u001b[0;34m)\u001b[0m\u001b[0;34m\u001b[0m\u001b[0;34m\u001b[0m\u001b[0m\n\u001b[1;32m      5\u001b[0m \u001b[0;32mfor\u001b[0m \u001b[0mi\u001b[0m \u001b[0;32min\u001b[0m \u001b[0mrange\u001b[0m\u001b[0;34m(\u001b[0m\u001b[0mdata2\u001b[0m\u001b[0;34m.\u001b[0m\u001b[0mshape\u001b[0m\u001b[0;34m[\u001b[0m\u001b[0;36m0\u001b[0m\u001b[0;34m]\u001b[0m\u001b[0;34m)\u001b[0m\u001b[0;34m:\u001b[0m\u001b[0;34m\u001b[0m\u001b[0;34m\u001b[0m\u001b[0m\n",
      "\u001b[0;31mModuleNotFoundError\u001b[0m: No module named 'skimage'"
     ]
    }
   ],
   "source": [
    "from skimage.transform import resize\n",
    "\n",
    "for i in range(data1.shape[0]):\n",
    "    data1[i][0] = resize(data1[i][0], (28, 28))\n",
    "for i in range(data2.shape[0]):\n",
    "    data2[i][0] = resize(data2[i][0], (28, 28))\n",
    "for i in range(data3.shape[0]):\n",
    "    data3[i][0] = resize(data3[i][0], (28, 28))\n",
    "for i in range(data4.shape[0]):\n",
    "    data4[i][0] = resize(data4[i][0], (28, 28))\n",
    "data1[:, 0] /= 255\n",
    "data2[:, 0] /= 255\n",
    "data3[:, 0] /= 255\n",
    "data4[:, 0] /= 255\n"
   ]
  },
  {
   "cell_type": "code",
   "execution_count": 4,
   "metadata": {
    "_uuid": "ca3605a32c995d036802c5edf8da82d3691eae99",
    "scrolled": true
   },
   "outputs": [
    {
     "name": "stderr",
     "output_type": "stream",
     "text": [
      "/opt/conda/lib/python3.6/site-packages/skimage/transform/_warps.py:84: UserWarning: The default mode, 'constant', will be changed to 'reflect' in skimage 0.15.\n",
      "  warn(\"The default mode, 'constant', will be changed to 'reflect' in \"\n"
     ]
    }
   ],
   "source": [
    "for i in range(test.shape[0]):\n",
    "    test[i] = resize(test[i], (28, 28))\n",
    "test /= 255\n"
   ]
  },
  {
   "cell_type": "code",
   "execution_count": 5,
   "metadata": {
    "_uuid": "b44917fd00a122cabba5d4af4ce46c8c710aa6b2"
   },
   "outputs": [],
   "source": [
    "label_to_num = {}\n",
    "num_to_label = {}\n",
    "c = 0\n",
    "for i in range(len(data1)):\n",
    "    l = len(label_to_num)\n",
    "    label_to_num.setdefault(data1[i][1], c)\n",
    "    if len(label_to_num) > l:\n",
    "        num_to_label.setdefault(c, data1[i][1])\n",
    "        c += 1"
   ]
  },
  {
   "cell_type": "code",
   "execution_count": 6,
   "metadata": {
    "_uuid": "9a74f2b169f626c64715a359a7c4275ff7f79ce3"
   },
   "outputs": [],
   "source": [
    "import torch \n",
    "import torch.nn as nn\n",
    "import torchvision\n",
    "import torchvision.transforms as transforms"
   ]
  },
  {
   "cell_type": "code",
   "execution_count": 19,
   "metadata": {
    "_uuid": "8c296f12346111b2ca00bae72f6728031128a2f3"
   },
   "outputs": [],
   "source": [
    "#hyperparameters\n",
    "device = torch.device('cuda:0' if torch.cuda.is_available() else 'cpu')\n",
    "num_epochs = 5\n",
    "num_classes = 1000\n",
    "batch_size = 100\n",
    "learning_rate = 0.001"
   ]
  },
  {
   "cell_type": "code",
   "execution_count": 16,
   "metadata": {
    "_uuid": "e5f4176d3c92622a91e5a59323311a1c868fce86"
   },
   "outputs": [],
   "source": [
    "class ConvNet(nn.Module):\n",
    "    def __init__(self, num_classes=1000):\n",
    "        super(ConvNet, self).__init__()\n",
    "        self.layer1 = nn.Sequential(\n",
    "            nn.Conv2d(1, 16, kernel_size=5, stride=1, padding=2),\n",
    "            nn.MaxPool2d(kernel_size=2, stride=2),\n",
    "            nn.BatchNorm2d(16),\n",
    "            nn.ReLU())\n",
    "        self.layer2 = nn.Sequential(\n",
    "            nn.Conv2d(16, 128, kernel_size=5, stride=1, padding=2),\n",
    "            nn.MaxPool2d(kernel_size=2, stride=2),\n",
    "            nn.BatchNorm2d(128),\n",
    "            nn.ReLU())\n",
    "        self.fc = nn.Linear(7*7*128, num_classes)\n",
    "        \n",
    "    def forward(self, x):\n",
    "        out = self.layer1(x)\n",
    "        out = self.layer2(out)\n",
    "        out = out.reshape(out.size(0), -1)\n",
    "        out = self.fc(out)\n",
    "        return out"
   ]
  },
  {
   "cell_type": "code",
   "execution_count": 9,
   "metadata": {
    "_uuid": "da1e54ff70e614a50a062eb8a50415333b5c2e9b"
   },
   "outputs": [],
   "source": [
    "import torch.utils.data as utils\n",
    "\n",
    "train = np.concatenate((data1, data2, data3), axis=0)\n",
    "train_features = train[:, 0]\n",
    "train_labels = train[:, 1]\n",
    "for i in range(len(train_labels)):\n",
    "    train_labels[i] = label_to_num[train_labels[i]]\n",
    "\n",
    "valid_features = data4[:, 0]\n",
    "valid_labels = data4[:, 1]\n",
    "for i in range(len(valid_labels)):\n",
    "    valid_labels[i] = label_to_num[valid_labels[i]]\n",
    "\n",
    "tensor_train_features = torch.stack([torch.unsqueeze(torch.Tensor(i), 0) for i in train_features])\n",
    "tensor_train_labels = torch.Tensor(train_labels.astype('int32')).type(torch.LongTensor)\n",
    "tensor_valid_features = torch.stack([torch.unsqueeze(torch.Tensor(i), 0) for i in valid_features])\n",
    "tensor_valid_labels = torch.Tensor(valid_labels.astype('int32')).type(torch.LongTensor)\n",
    "\n",
    "train_dataset = utils.TensorDataset(tensor_train_features, tensor_train_labels)\n",
    "valid_dataset = utils.TensorDataset(tensor_valid_features, tensor_valid_labels)"
   ]
  },
  {
   "cell_type": "code",
   "execution_count": 10,
   "metadata": {
    "_uuid": "fbb87ccf65777a72a21abf789d0bb60086058afa",
    "scrolled": true
   },
   "outputs": [],
   "source": [
    "train_loader = utils.DataLoader(dataset=train_dataset,\n",
    "                                batch_size=batch_size, \n",
    "                                shuffle=True)\n",
    "valid_loader = utils.DataLoader(dataset=valid_dataset,\n",
    "                                batch_size=batch_size,\n",
    "                                shuffle=False)"
   ]
  },
  {
   "cell_type": "code",
   "execution_count": 20,
   "metadata": {
    "_uuid": "8aa785784e21791129a88d9ec77b7971a6ae8ede",
    "scrolled": true
   },
   "outputs": [
    {
     "name": "stdout",
     "output_type": "stream",
     "text": [
      "Epoch [1/5], Step [100/2498], Loss: 2.6815\n",
      "Epoch [1/5], Step [200/2498], Loss: 1.1575\n",
      "Epoch [1/5], Step [300/2498], Loss: 0.9044\n",
      "Epoch [1/5], Step [400/2498], Loss: 1.0001\n",
      "Epoch [1/5], Step [500/2498], Loss: 0.7372\n",
      "Epoch [1/5], Step [600/2498], Loss: 0.9162\n",
      "Epoch [1/5], Step [700/2498], Loss: 0.4752\n",
      "Epoch [1/5], Step [800/2498], Loss: 0.6632\n",
      "Epoch [1/5], Step [900/2498], Loss: 0.5061\n",
      "Epoch [1/5], Step [1000/2498], Loss: 0.3298\n",
      "Epoch [1/5], Step [1100/2498], Loss: 0.3781\n",
      "Epoch [1/5], Step [1200/2498], Loss: 0.2926\n",
      "Epoch [1/5], Step [1300/2498], Loss: 0.2600\n",
      "Epoch [1/5], Step [1400/2498], Loss: 0.3764\n",
      "Epoch [1/5], Step [1500/2498], Loss: 0.2713\n",
      "Epoch [1/5], Step [1600/2498], Loss: 0.2808\n",
      "Epoch [1/5], Step [1700/2498], Loss: 0.2960\n",
      "Epoch [1/5], Step [1800/2498], Loss: 0.1862\n",
      "Epoch [1/5], Step [1900/2498], Loss: 0.0919\n",
      "Epoch [1/5], Step [2000/2498], Loss: 0.2207\n",
      "Epoch [1/5], Step [2100/2498], Loss: 0.1445\n",
      "Epoch [1/5], Step [2200/2498], Loss: 0.2048\n",
      "Epoch [1/5], Step [2300/2498], Loss: 0.1702\n",
      "Epoch [1/5], Step [2400/2498], Loss: 0.3710\n",
      "Epoch [2/5], Step [100/2498], Loss: 0.0547\n",
      "Epoch [2/5], Step [200/2498], Loss: 0.0310\n",
      "Epoch [2/5], Step [300/2498], Loss: 0.0107\n",
      "Epoch [2/5], Step [400/2498], Loss: 0.0869\n",
      "Epoch [2/5], Step [500/2498], Loss: 0.0364\n",
      "Epoch [2/5], Step [600/2498], Loss: 0.0508\n",
      "Epoch [2/5], Step [700/2498], Loss: 0.0268\n",
      "Epoch [2/5], Step [800/2498], Loss: 0.0341\n",
      "Epoch [2/5], Step [900/2498], Loss: 0.0312\n",
      "Epoch [2/5], Step [1000/2498], Loss: 0.0590\n",
      "Epoch [2/5], Step [1100/2498], Loss: 0.0533\n",
      "Epoch [2/5], Step [1200/2498], Loss: 0.0934\n",
      "Epoch [2/5], Step [1300/2498], Loss: 0.0146\n",
      "Epoch [2/5], Step [1400/2498], Loss: 0.1791\n",
      "Epoch [2/5], Step [1500/2498], Loss: 0.0106\n",
      "Epoch [2/5], Step [1600/2498], Loss: 0.1743\n",
      "Epoch [2/5], Step [1700/2498], Loss: 0.0891\n",
      "Epoch [2/5], Step [1800/2498], Loss: 0.0219\n",
      "Epoch [2/5], Step [1900/2498], Loss: 0.0202\n",
      "Epoch [2/5], Step [2000/2498], Loss: 0.2314\n",
      "Epoch [2/5], Step [2100/2498], Loss: 0.0989\n",
      "Epoch [2/5], Step [2200/2498], Loss: 0.1155\n",
      "Epoch [2/5], Step [2300/2498], Loss: 0.1180\n",
      "Epoch [2/5], Step [2400/2498], Loss: 0.0286\n",
      "Epoch [3/5], Step [100/2498], Loss: 0.0098\n",
      "Epoch [3/5], Step [200/2498], Loss: 0.0073\n",
      "Epoch [3/5], Step [300/2498], Loss: 0.0440\n",
      "Epoch [3/5], Step [400/2498], Loss: 0.0079\n",
      "Epoch [3/5], Step [500/2498], Loss: 0.0334\n",
      "Epoch [3/5], Step [600/2498], Loss: 0.0334\n",
      "Epoch [3/5], Step [700/2498], Loss: 0.0022\n",
      "Epoch [3/5], Step [800/2498], Loss: 0.0073\n",
      "Epoch [3/5], Step [900/2498], Loss: 0.0189\n",
      "Epoch [3/5], Step [1000/2498], Loss: 0.0055\n",
      "Epoch [3/5], Step [1100/2498], Loss: 0.0231\n",
      "Epoch [3/5], Step [1200/2498], Loss: 0.0112\n",
      "Epoch [3/5], Step [1300/2498], Loss: 0.0118\n",
      "Epoch [3/5], Step [1400/2498], Loss: 0.0099\n",
      "Epoch [3/5], Step [1500/2498], Loss: 0.0170\n",
      "Epoch [3/5], Step [1600/2498], Loss: 0.0580\n",
      "Epoch [3/5], Step [1700/2498], Loss: 0.0403\n",
      "Epoch [3/5], Step [1800/2498], Loss: 0.0102\n",
      "Epoch [3/5], Step [1900/2498], Loss: 0.1018\n",
      "Epoch [3/5], Step [2000/2498], Loss: 0.0173\n",
      "Epoch [3/5], Step [2100/2498], Loss: 0.0144\n",
      "Epoch [3/5], Step [2200/2498], Loss: 0.0493\n",
      "Epoch [3/5], Step [2300/2498], Loss: 0.0250\n",
      "Epoch [3/5], Step [2400/2498], Loss: 0.0211\n",
      "Epoch [4/5], Step [100/2498], Loss: 0.0293\n",
      "Epoch [4/5], Step [200/2498], Loss: 0.0032\n",
      "Epoch [4/5], Step [300/2498], Loss: 0.0233\n",
      "Epoch [4/5], Step [400/2498], Loss: 0.0266\n",
      "Epoch [4/5], Step [500/2498], Loss: 0.0068\n",
      "Epoch [4/5], Step [600/2498], Loss: 0.0012\n",
      "Epoch [4/5], Step [700/2498], Loss: 0.0032\n",
      "Epoch [4/5], Step [800/2498], Loss: 0.0011\n",
      "Epoch [4/5], Step [900/2498], Loss: 0.0333\n",
      "Epoch [4/5], Step [1000/2498], Loss: 0.0481\n",
      "Epoch [4/5], Step [1100/2498], Loss: 0.0064\n",
      "Epoch [4/5], Step [1200/2498], Loss: 0.0012\n",
      "Epoch [4/5], Step [1300/2498], Loss: 0.0035\n",
      "Epoch [4/5], Step [1400/2498], Loss: 0.0254\n",
      "Epoch [4/5], Step [1500/2498], Loss: 0.0136\n",
      "Epoch [4/5], Step [1600/2498], Loss: 0.0033\n",
      "Epoch [4/5], Step [1700/2498], Loss: 0.0027\n",
      "Epoch [4/5], Step [1800/2498], Loss: 0.0180\n",
      "Epoch [4/5], Step [1900/2498], Loss: 0.0023\n",
      "Epoch [4/5], Step [2000/2498], Loss: 0.0127\n",
      "Epoch [4/5], Step [2100/2498], Loss: 0.0202\n",
      "Epoch [4/5], Step [2200/2498], Loss: 0.0083\n",
      "Epoch [4/5], Step [2300/2498], Loss: 0.0513\n",
      "Epoch [4/5], Step [2400/2498], Loss: 0.0639\n",
      "Epoch [5/5], Step [100/2498], Loss: 0.0007\n",
      "Epoch [5/5], Step [200/2498], Loss: 0.0015\n",
      "Epoch [5/5], Step [300/2498], Loss: 0.0008\n",
      "Epoch [5/5], Step [400/2498], Loss: 0.0021\n",
      "Epoch [5/5], Step [500/2498], Loss: 0.0003\n",
      "Epoch [5/5], Step [600/2498], Loss: 0.0012\n",
      "Epoch [5/5], Step [700/2498], Loss: 0.0066\n",
      "Epoch [5/5], Step [800/2498], Loss: 0.0010\n",
      "Epoch [5/5], Step [900/2498], Loss: 0.0071\n",
      "Epoch [5/5], Step [1000/2498], Loss: 0.0012\n",
      "Epoch [5/5], Step [1100/2498], Loss: 0.0032\n",
      "Epoch [5/5], Step [1200/2498], Loss: 0.0049\n",
      "Epoch [5/5], Step [1300/2498], Loss: 0.0469\n",
      "Epoch [5/5], Step [1400/2498], Loss: 0.0236\n",
      "Epoch [5/5], Step [1500/2498], Loss: 0.0039\n",
      "Epoch [5/5], Step [1600/2498], Loss: 0.0040\n",
      "Epoch [5/5], Step [1700/2498], Loss: 0.0029\n",
      "Epoch [5/5], Step [1800/2498], Loss: 0.0050\n",
      "Epoch [5/5], Step [1900/2498], Loss: 0.0012\n",
      "Epoch [5/5], Step [2000/2498], Loss: 0.0507\n",
      "Epoch [5/5], Step [2100/2498], Loss: 0.0018\n",
      "Epoch [5/5], Step [2200/2498], Loss: 0.0046\n",
      "Epoch [5/5], Step [2300/2498], Loss: 0.0014\n",
      "Epoch [5/5], Step [2400/2498], Loss: 0.0033\n"
     ]
    }
   ],
   "source": [
    "model = ConvNet(num_classes).to(device)\n",
    "\n",
    "criterion = nn.CrossEntropyLoss()\n",
    "optimizer = torch.optim.Adam(model.parameters(), lr=learning_rate)\n",
    "\n",
    "total_step = len(train_loader)\n",
    "for epoch in range(num_epochs):\n",
    "    for i, (images, labels) in enumerate(train_loader):\n",
    "        images = images.to(device)\n",
    "        labels = labels.to(device)\n",
    "        \n",
    "        outputs = model(images)\n",
    "        loss = criterion(outputs, labels)\n",
    "        \n",
    "        optimizer.zero_grad()\n",
    "        loss.backward()\n",
    "        optimizer.step()\n",
    "        \n",
    "        if (i+1) % 100 == 0:\n",
    "            print ('Epoch [{}/{}], Step [{}/{}], Loss: {:.4f}' \n",
    "                   .format(epoch+1, num_epochs, i+1, total_step, loss.item()))\n",
    "\n"
   ]
  },
  {
   "cell_type": "code",
   "execution_count": 21,
   "metadata": {
    "_uuid": "651fab90ec8b9a01f4d5912cb45733a99af5e0cd"
   },
   "outputs": [
    {
     "name": "stdout",
     "output_type": "stream",
     "text": [
      "Test Accuracy of the model on the govno test images: 0.2258339639866902 %\n"
     ]
    }
   ],
   "source": [
    "model.eval()\n",
    "with torch.no_grad():\n",
    "    correct = 0\n",
    "    total = 0\n",
    "    for images, labels in valid_loader:\n",
    "        images = images.to(device)\n",
    "        labels = labels.to(device)\n",
    "        outputs = model(images)\n",
    "        _, predicted = torch.max(outputs.data, 1)\n",
    "        total += labels.size(0)\n",
    "        correct += (predicted == labels).sum().item()\n",
    "\n",
    "    print('Test Accuracy of the model on the govno test images: {} %'.format(100 * correct / total))\n"
   ]
  },
  {
   "cell_type": "code",
   "execution_count": null,
   "metadata": {
    "_uuid": "f4c5acd4e053896e4db05262cfaf4f224a8a09d3"
   },
   "outputs": [],
   "source": [
    "y = [0 for i in range(len(test))]\n",
    "data_x = torch.stack([torch.from_numpy(i).type(torch.FloatTensor) for i in test])\n"
   ]
  }
 ],
 "metadata": {
  "kernelspec": {
   "display_name": "Python 3",
   "language": "python",
   "name": "python3"
  },
  "language_info": {
   "codemirror_mode": {
    "name": "ipython",
    "version": 3
   },
   "file_extension": ".py",
   "mimetype": "text/x-python",
   "name": "python",
   "nbconvert_exporter": "python",
   "pygments_lexer": "ipython3",
   "version": "3.7.2"
  }
 },
 "nbformat": 4,
 "nbformat_minor": 1
}
