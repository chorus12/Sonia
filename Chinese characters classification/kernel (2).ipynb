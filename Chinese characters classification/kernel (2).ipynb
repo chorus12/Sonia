{
 "cells": [
  {
   "cell_type": "code",
   "execution_count": 1,
   "metadata": {
    "_cell_guid": "b1076dfc-b9ad-4769-8c92-a6c4dae69d19",
    "_uuid": "8f2839f25d086af736a60e9eeb907d3b93b6e0e5"
   },
   "outputs": [],
   "source": [
    "# This Python 3 environment comes with many helpful analytics libraries installed\n",
    "# It is defined by the kaggle/python docker image: https://github.com/kaggle/docker-python\n",
    "# For example, here's several helpful packages to load in \n",
    "\n",
    "import numpy as np # linear algebra\n",
    "import pandas as pd # data processing, CSV file I/O (e.g. pd.read_csv)\n",
    "import matplotlib.pyplot as plt\n",
    "\n",
    "# Input data files are available in the \"../input/\" directory.\n",
    "# For example, running this (by clicking run or pressing Shift+Enter) will list the files in the input directory\n",
    "\n",
    "import os\n",
    "\n",
    "# Any results you write to the current directory are saved as output."
   ]
  },
  {
   "cell_type": "code",
   "execution_count": 2,
   "metadata": {
    "_cell_guid": "79c7e3d0-c299-4dcb-8224-4455121ee9b0",
    "_uuid": "d629ff2d2480ee46fbb7e2d37f6b5fab8052498a"
   },
   "outputs": [],
   "source": [
    "data1 = np.load('train-1.npy')\n",
    "data2 = np.load('train-2.npy')\n",
    "data3 = np.load('train-3.npy')\n",
    "data4 = np.load('train-4.npy')\n",
    "test = np.load('test.npy')"
   ]
  },
  {
   "cell_type": "code",
   "execution_count": 3,
   "metadata": {
    "_uuid": "a04c10bf0aa2ef6e1b8ace81efe50cc54a1df707",
    "scrolled": true
   },
   "outputs": [
    {
     "name": "stderr",
     "output_type": "stream",
     "text": [
      "  0%|          | 0/83246 [00:00<?, ?it/s]/home/raccooncoder/anaconda3/envs/pytorch/lib/python3.7/site-packages/skimage/transform/_warps.py:105: UserWarning: The default mode, 'constant', will be changed to 'reflect' in skimage 0.15.\n",
      "  warn(\"The default mode, 'constant', will be changed to 'reflect' in \"\n",
      "/home/raccooncoder/anaconda3/envs/pytorch/lib/python3.7/site-packages/skimage/transform/_warps.py:110: UserWarning: Anti-aliasing will be enabled by default in skimage 0.15 to avoid aliasing artifacts when down-sampling images.\n",
      "  warn(\"Anti-aliasing will be enabled by default in skimage 0.15 to \"\n",
      "100%|██████████| 83246/83246 [00:41<00:00, 2003.14it/s]\n",
      "100%|██████████| 83247/83247 [00:41<00:00, 2013.55it/s]\n",
      "100%|██████████| 83247/83247 [00:43<00:00, 1911.76it/s]\n",
      "100%|██████████| 83247/83247 [00:40<00:00, 2051.76it/s]\n"
     ]
    }
   ],
   "source": [
    "from skimage.transform import resize\n",
    "from tqdm import tqdm\n",
    "\n",
    "for i in tqdm(range(data1.shape[0])):\n",
    "    data1[i][0] = resize(data1[i][0], (28, 28))\n",
    "for i in tqdm(range(data2.shape[0])):\n",
    "    data2[i][0] = resize(data2[i][0], (28, 28))\n",
    "for i in tqdm(range(data3.shape[0])):\n",
    "    data3[i][0] = resize(data3[i][0], (28, 28))\n",
    "for i in tqdm(range(data4.shape[0])):\n",
    "    data4[i][0] = resize(data4[i][0], (28, 28))\n",
    "data1[:, 0] /= 255\n",
    "data2[:, 0] /= 255\n",
    "data3[:, 0] /= 255\n",
    "data4[:, 0] /= 255\n"
   ]
  },
  {
   "cell_type": "code",
   "execution_count": 4,
   "metadata": {
    "_uuid": "ca3605a32c995d036802c5edf8da82d3691eae99",
    "scrolled": true
   },
   "outputs": [
    {
     "name": "stderr",
     "output_type": "stream",
     "text": [
      "100%|██████████| 83247/83247 [00:42<00:00, 1959.56it/s]\n"
     ]
    },
    {
     "name": "stdout",
     "output_type": "stream",
     "text": [
      "83247\n"
     ]
    }
   ],
   "source": [
    "for i in tqdm(range(test.shape[0])):\n",
    "    test[i] = resize(test[i], (28, 28))\n",
    "test /= 255\n",
    "\n",
    "print(test.shape[0])\n"
   ]
  },
  {
   "cell_type": "code",
   "execution_count": 5,
   "metadata": {
    "_uuid": "b44917fd00a122cabba5d4af4ce46c8c710aa6b2"
   },
   "outputs": [
    {
     "name": "stdout",
     "output_type": "stream",
     "text": [
      "1000\n"
     ]
    }
   ],
   "source": [
    "label_to_num = {}\n",
    "num_to_label = {}\n",
    "c = 0\n",
    "for i in range(len(data1)):\n",
    "    l = len(label_to_num)\n",
    "    label_to_num.setdefault(data1[i][1], c)\n",
    "    if len(label_to_num) > l:\n",
    "        num_to_label.setdefault(c, data1[i][1])\n",
    "        c += 1\n",
    "        \n",
    "print(len(label_to_num))"
   ]
  },
  {
   "cell_type": "code",
   "execution_count": 6,
   "metadata": {
    "_uuid": "9a74f2b169f626c64715a359a7c4275ff7f79ce3"
   },
   "outputs": [],
   "source": [
    "import torch \n",
    "import torch.nn as nn\n",
    "import torchvision\n",
    "import torchvision.transforms as transforms"
   ]
  },
  {
   "cell_type": "code",
   "execution_count": 32,
   "metadata": {
    "_uuid": "8c296f12346111b2ca00bae72f6728031128a2f3"
   },
   "outputs": [],
   "source": [
    "#hyperparameters\n",
    "device = torch.device('cuda:0' if torch.cuda.is_available() else 'cpu')\n",
    "num_epochs = 5\n",
    "num_classes = 1000\n",
    "batch_size = 1024\n",
    "learning_rate = 0.001"
   ]
  },
  {
   "cell_type": "code",
   "execution_count": 23,
   "metadata": {
    "_uuid": "e5f4176d3c92622a91e5a59323311a1c868fce86"
   },
   "outputs": [],
   "source": [
    "class ConvNet(nn.Module):\n",
    "    def __init__(self, num_classes=1000):\n",
    "        super(ConvNet, self).__init__()\n",
    "        self.layer1 = nn.Sequential(\n",
    "            nn.Conv2d(1, 64, kernel_size=3, stride=1, padding=1),\n",
    "            nn.MaxPool2d(kernel_size=2, stride=2),\n",
    "            nn.BatchNorm2d(64),\n",
    "            nn.ReLU())\n",
    "        self.layer2 = nn.Sequential(\n",
    "            nn.Conv2d(64, 128, kernel_size=3, stride=1, padding=1),\n",
    "            nn.MaxPool2d(kernel_size=2, stride=2),\n",
    "            nn.BatchNorm2d(128),\n",
    "            nn.ReLU())\n",
    "        self.fc = nn.Linear(7*7*128, num_classes)\n",
    "        \n",
    "    def forward(self, x):\n",
    "        out = self.layer1(x)\n",
    "        out = self.layer2(out)\n",
    "        out = out.reshape(out.size(0), -1)\n",
    "        out = self.fc(out)\n",
    "        return out"
   ]
  },
  {
   "cell_type": "code",
   "execution_count": 18,
   "metadata": {
    "_uuid": "da1e54ff70e614a50a062eb8a50415333b5c2e9b"
   },
   "outputs": [
    {
     "ename": "KeyError",
     "evalue": "973",
     "output_type": "error",
     "traceback": [
      "\u001b[0;31m---------------------------------------------------------------------------\u001b[0m",
      "\u001b[0;31mKeyError\u001b[0m                                  Traceback (most recent call last)",
      "\u001b[0;32m<ipython-input-18-f8b45259ee37>\u001b[0m in \u001b[0;36m<module>\u001b[0;34m\u001b[0m\n\u001b[1;32m     10\u001b[0m \u001b[0mvalid_labels\u001b[0m \u001b[0;34m=\u001b[0m \u001b[0mdata4\u001b[0m\u001b[0;34m[\u001b[0m\u001b[0;34m:\u001b[0m\u001b[0;34m,\u001b[0m \u001b[0;36m1\u001b[0m\u001b[0;34m]\u001b[0m\u001b[0;34m\u001b[0m\u001b[0;34m\u001b[0m\u001b[0m\n\u001b[1;32m     11\u001b[0m \u001b[0;32mfor\u001b[0m \u001b[0mi\u001b[0m \u001b[0;32min\u001b[0m \u001b[0mrange\u001b[0m\u001b[0;34m(\u001b[0m\u001b[0mlen\u001b[0m\u001b[0;34m(\u001b[0m\u001b[0mvalid_labels\u001b[0m\u001b[0;34m)\u001b[0m\u001b[0;34m)\u001b[0m\u001b[0;34m:\u001b[0m\u001b[0;34m\u001b[0m\u001b[0;34m\u001b[0m\u001b[0m\n\u001b[0;32m---> 12\u001b[0;31m     \u001b[0mvalid_labels\u001b[0m\u001b[0;34m[\u001b[0m\u001b[0mi\u001b[0m\u001b[0;34m]\u001b[0m \u001b[0;34m=\u001b[0m \u001b[0mlabel_to_num\u001b[0m\u001b[0;34m[\u001b[0m\u001b[0mvalid_labels\u001b[0m\u001b[0;34m[\u001b[0m\u001b[0mi\u001b[0m\u001b[0;34m]\u001b[0m\u001b[0;34m]\u001b[0m\u001b[0;34m\u001b[0m\u001b[0;34m\u001b[0m\u001b[0m\n\u001b[0m\u001b[1;32m     13\u001b[0m \u001b[0;34m\u001b[0m\u001b[0m\n\u001b[1;32m     14\u001b[0m \u001b[0mtensor_train_features\u001b[0m \u001b[0;34m=\u001b[0m \u001b[0mtorch\u001b[0m\u001b[0;34m.\u001b[0m\u001b[0mstack\u001b[0m\u001b[0;34m(\u001b[0m\u001b[0;34m[\u001b[0m\u001b[0mtorch\u001b[0m\u001b[0;34m.\u001b[0m\u001b[0munsqueeze\u001b[0m\u001b[0;34m(\u001b[0m\u001b[0mtorch\u001b[0m\u001b[0;34m.\u001b[0m\u001b[0mTensor\u001b[0m\u001b[0;34m(\u001b[0m\u001b[0mi\u001b[0m\u001b[0;34m)\u001b[0m\u001b[0;34m,\u001b[0m \u001b[0;36m0\u001b[0m\u001b[0;34m)\u001b[0m \u001b[0;32mfor\u001b[0m \u001b[0mi\u001b[0m \u001b[0;32min\u001b[0m \u001b[0mtrain_features\u001b[0m\u001b[0;34m]\u001b[0m\u001b[0;34m)\u001b[0m\u001b[0;34m\u001b[0m\u001b[0;34m\u001b[0m\u001b[0m\n",
      "\u001b[0;31mKeyError\u001b[0m: 973"
     ]
    }
   ],
   "source": [
    "import torch.utils.data as utils\n",
    "\n",
    "train = np.concatenate((data1, data2, data3), axis=0)\n",
    "train_features = train[:, 0]\n",
    "train_labels = train[:, 1]\n",
    "for i in range(len(train_labels)):\n",
    "    train_labels[i] = label_to_num[train_labels[i]]\n",
    "\n",
    "valid_features = data4[:, 0]\n",
    "valid_labels = data4[:, 1]\n",
    "for i in range(len(valid_labels)):\n",
    "    valid_labels[i] = label_to_num[valid_labels[i]]\n",
    "\n",
    "tensor_train_features = torch.stack([torch.unsqueeze(torch.Tensor(i), 0) for i in train_features])\n",
    "tensor_train_labels = torch.Tensor(train_labels.astype('int32')).type(torch.LongTensor)\n",
    "tensor_valid_features = torch.stack([torch.unsqueeze(torch.Tensor(i), 0) for i in valid_features])\n",
    "tensor_valid_labels = torch.Tensor(valid_labels.astype('int32')).type(torch.LongTensor)\n",
    "\n",
    "train_dataset = utils.TensorDataset(tensor_train_features, tensor_train_labels)\n",
    "valid_dataset = utils.TensorDataset(tensor_valid_features, tensor_valid_labels)"
   ]
  },
  {
   "cell_type": "code",
   "execution_count": 19,
   "metadata": {
    "_uuid": "fbb87ccf65777a72a21abf789d0bb60086058afa",
    "scrolled": true
   },
   "outputs": [],
   "source": [
    "train_loader = utils.DataLoader(dataset=train_dataset,\n",
    "                                batch_size=batch_size, \n",
    "                                shuffle=True)\n",
    "valid_loader = utils.DataLoader(dataset=valid_dataset,\n",
    "                                batch_size=batch_size,\n",
    "                                shuffle=False)"
   ]
  },
  {
   "cell_type": "code",
   "execution_count": 34,
   "metadata": {
    "_uuid": "8aa785784e21791129a88d9ec77b7971a6ae8ede",
    "scrolled": true
   },
   "outputs": [
    {
     "name": "stdout",
     "output_type": "stream",
     "text": [
      "Epoch [1/5], Step [100/244], Loss: 6.3811\n",
      "Epoch [1/5], Step [200/244], Loss: 2.3208\n",
      "\n",
      "Average loss: 2.4674, Accuracy: 34305/83247 (41.000%)\n",
      "\n",
      "Epoch [2/5], Step [100/244], Loss: 0.7242\n",
      "Epoch [2/5], Step [200/244], Loss: 0.4306\n",
      "\n",
      "Average loss: 0.7662, Accuracy: 65926/83247 (79.000%)\n",
      "\n",
      "Epoch [3/5], Step [100/244], Loss: 0.2815\n",
      "Epoch [3/5], Step [200/244], Loss: 0.2265\n",
      "\n",
      "Average loss: 0.4932, Accuracy: 72231/83247 (86.000%)\n",
      "\n",
      "Epoch [4/5], Step [100/244], Loss: 0.1097\n",
      "Epoch [4/5], Step [200/244], Loss: 0.1562\n",
      "\n",
      "Average loss: 0.6080, Accuracy: 70257/83247 (84.000%)\n",
      "\n",
      "Epoch [5/5], Step [100/244], Loss: 0.0795\n",
      "Epoch [5/5], Step [200/244], Loss: 0.0790\n",
      "\n",
      "Average loss: 0.4311, Accuracy: 74163/83247 (89.000%)\n",
      "\n"
     ]
    }
   ],
   "source": [
    "import torch.nn.functional as F\n",
    "import torchvision.models as models\n",
    "\n",
    "model = models.resnet18(pretrained=True)\n",
    "model.conv1 = nn.Conv2d(1, 64, kernel_size=7, stride=2, padding=3,\n",
    "                               bias=False)\n",
    "\n",
    "model = model.to(device)\n",
    "\n",
    "criterion = nn.CrossEntropyLoss()\n",
    "optimizer = torch.optim.Adam(model.parameters(), lr=learning_rate)\n",
    "\n",
    "total_step = len(train_loader)\n",
    "\n",
    "for epoch in range(num_epochs):\n",
    "    model.train()\n",
    "    \n",
    "    for i, (images, labels) in enumerate(train_loader):\n",
    "        images = images.to(device)\n",
    "        labels = labels.to(device)\n",
    "        \n",
    "        optimizer.zero_grad()\n",
    "        \n",
    "        outputs = model(images)\n",
    "        loss = criterion(outputs, labels)\n",
    "        \n",
    "        loss.backward()\n",
    "        optimizer.step()\n",
    "        \n",
    "        if (i+1) % 100 == 0:\n",
    "            print ('Epoch [{}/{}], Step [{}/{}], Loss: {:.4f}' \n",
    "                   .format(epoch+1, num_epochs, i+1, total_step, loss.item()))\n",
    "    \n",
    "    model.eval()\n",
    "    loss = 0\n",
    "    correct = 0\n",
    "    \n",
    "    with torch.no_grad():\n",
    "        for i, (images, labels) in enumerate(valid_loader):\n",
    "            images = images.to(device)\n",
    "            labels = labels.to(device)\n",
    "\n",
    "            outputs = model(images)\n",
    "            \n",
    "            loss += F.cross_entropy(outputs, labels, reduction = 'sum').item()\n",
    "\n",
    "            pred = outputs.data.max(1, keepdim=True)[1]\n",
    "            correct += pred.eq(labels.data.view_as(pred)).cpu().sum()\n",
    "\n",
    "    loss /= len(valid_loader.dataset)\n",
    "        \n",
    "    print('\\nAverage loss: {:.4f}, Accuracy: {}/{} ({:.3f}%)\\n'.format(\n",
    "        loss, correct, len(valid_loader.dataset),\n",
    "        100. * correct / len(valid_loader.dataset)))\n",
    "\n"
   ]
  },
  {
   "cell_type": "code",
   "execution_count": null,
   "metadata": {
    "_uuid": "651fab90ec8b9a01f4d5912cb45733a99af5e0cd"
   },
   "outputs": [],
   "source": [
    "model.eval()\n",
    "with torch.no_grad():\n",
    "    correct = 0\n",
    "    total = 0\n",
    "    for images, labels in valid_loader:\n",
    "        images = images.to(device)\n",
    "        labels = labels.to(device)\n",
    "        outputs = model(images)\n",
    "        _, predicted = torch.max(outputs.data, 1)\n",
    "        total += labels.size(0)\n",
    "        correct += (predicted == labels).sum().item()\n",
    "\n",
    "    print('Test Accuracy of the model on the govno test images: {} %'.format(100 * correct / total))\n"
   ]
  },
  {
   "cell_type": "code",
   "execution_count": null,
   "metadata": {
    "_uuid": "f4c5acd4e053896e4db05262cfaf4f224a8a09d3"
   },
   "outputs": [],
   "source": [
    "y = [0 for i in range(len(test))]\n",
    "data_x = torch.stack([torch.from_numpy(i).type(torch.FloatTensor) for i in test])\n"
   ]
  }
 ],
 "metadata": {
  "kernelspec": {
   "display_name": "Python 3",
   "language": "python",
   "name": "python3"
  },
  "language_info": {
   "codemirror_mode": {
    "name": "ipython",
    "version": 3
   },
   "file_extension": ".py",
   "mimetype": "text/x-python",
   "name": "python",
   "nbconvert_exporter": "python",
   "pygments_lexer": "ipython3",
   "version": "3.7.2"
  }
 },
 "nbformat": 4,
 "nbformat_minor": 1
}
