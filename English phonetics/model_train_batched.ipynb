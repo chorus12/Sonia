{
 "cells": [
  {
   "cell_type": "code",
   "execution_count": 1,
   "metadata": {},
   "outputs": [
    {
     "name": "stdout",
     "output_type": "stream",
     "text": [
      "cuda:0\n"
     ]
    }
   ],
   "source": [
    "import torch\n",
    "import torch.nn as nn\n",
    "import torch.nn.functional as F\n",
    "from torch.utils.data import DataLoader, Dataset\n",
    "import torchvision.models as models\n",
    "from torch.autograd import Variable\n",
    "import numpy as np\n",
    "import matplotlib.pyplot as plt\n",
    "import cv2\n",
    "from tqdm import tqdm_notebook as tqdm\n",
    "from sklearn.model_selection import train_test_split\n",
    "import torchvision\n",
    "from torchvision import transforms\n",
    "import math\n",
    "from PIL import Image\n",
    "from torchsummary import summary \n",
    "from tqdm import trange \n",
    "import glob\n",
    "import os\n",
    "import unicodedata\n",
    "import string\n",
    "import time \n",
    "import random \n",
    "\n",
    "%matplotlib inline\n",
    "\n",
    "device = torch.device(\"cuda:0\" if torch.cuda.is_available() else \"cpu\")\n",
    "#device = \"cpu\"\n",
    "print(device)"
   ]
  },
  {
   "cell_type": "code",
   "execution_count": 2,
   "metadata": {},
   "outputs": [
    {
     "name": "stdout",
     "output_type": "stream",
     "text": [
      "LEMIEUX L_AH_M_Y_UW\n",
      "79\n"
     ]
    }
   ],
   "source": [
    "data = open('train.txt', encoding='utf-8').read().strip().split('\\n')\n",
    "\n",
    "print(data[0])\n",
    "\n",
    "chardict =  {'': 0, '.': 1, \"'\": 2, '-':3, 'A': 4, 'B': 5, 'C': 6, 'D': 7, 'E': 8, 'F': 9, 'G': 10, 'H': 11, 'I': 12, 'J': 13, 'K': 14, 'L': 15, 'M': 16, 'N': 17, 'O': 18, 'P': 19, 'Q': 20, 'R': 21, 'S': 22, 'T': 23, 'U': 24, 'V': 25, 'W': 26, 'X': 27, 'Y': 28, 'Z': 29}\n",
    "phonedict = {'AA' : 0, 'AE' : 1, 'AH' : 2, 'AO' : 3, 'AW' : 4, 'AY' : 5, 'B' : 6, 'CH' : 7, 'D' : 8, 'DH' : 9, 'EH' : 10, 'ER' : 11, 'EY' : 12, 'F' : 13, 'G' : 14, 'HH' : 15, 'IH' : 16, 'IY' : 17, 'JH' : 18, 'K' : 19, 'L' : 20, 'M' : 21, 'N' : 22, 'NG' : 23, 'OW' : 24, 'OY' : 25, 'P' : 26, 'R' : 27, 'S' : 28, 'SH' : 29, 'T' : 30, 'TH' : 31, 'UH' : 32, 'UW' : 33, 'V' : 34, 'W' : 35, 'Y' : 36, 'Z' : 37, 'ZH' : 38}\n",
    "\n",
    "rev_chardict = {v:k for k,v in chardict.items()}\n",
    "rev_phonedict = {v:k for k,v in phonedict.items()}\n",
    "\n",
    "n_chars = len(chardict) + 3\n",
    "n_phones = len(phonedict) + 3\n",
    "n_words = len(data)\n",
    "\n",
    "def wordToTensor(line):\n",
    "    tensor = torch.zeros(len(line) + 1, n_chars)\n",
    "    for li, letter in enumerate(line):\n",
    "        tensor[li][chardict[letter] + 3] = 1\n",
    "    tensor[len(line)][2] = 1\n",
    "    return tensor\n",
    "\n",
    "def phoneToTensor(line):\n",
    "    tensor = torch.zeros(len(line), n_phones)\n",
    "    linelist = line.split('_')\n",
    "    for li, letter in enumerate(linelist):\n",
    "        tensor[li][phonedict[letter] + 3] = 1\n",
    "    tensor[len(linelist)][2] = 1\n",
    "    return tensor\n",
    "\n",
    "def pairTensor(i):\n",
    "    linelist = data[i].split(' ')\n",
    "    return (wordToTensor(linelist[0]), phoneToTensor(linelist[1]))\n",
    "\n",
    "max_wordlen = 36\n",
    "max_phonelen = 20\n",
    "\n",
    "data = [word for word in data if len(word.split(' ')[0]) <= max_wordlen]\n",
    "\n",
    "for word in data:\n",
    "    max_phonelen = max(max_phonelen, len(word.split(' ')[1]))\n",
    "    \n",
    "print(max_phonelen)"
   ]
  },
  {
   "cell_type": "code",
   "execution_count": 3,
   "metadata": {},
   "outputs": [],
   "source": [
    "n_hidden = 128\n",
    "batch_size = 128"
   ]
  },
  {
   "cell_type": "code",
   "execution_count": 4,
   "metadata": {},
   "outputs": [],
   "source": [
    "class EncoderRNN(nn.Module):\n",
    "    def __init__(self, input_size, hidden_size):\n",
    "        super(EncoderRNN, self).__init__()\n",
    "        self.hidden_size = hidden_size\n",
    "        \n",
    "        self.gru = nn.LSTM(n_chars, hidden_size, bidirectional = False, num_layers = 2, dropout = 0.2)\n",
    "\n",
    "    def forward(self, inp, hidden):\n",
    "        output, hidden = self.gru(inp, hidden)\n",
    "        return output, hidden\n",
    "\n",
    "    def initHidden(self):\n",
    "        return (torch.zeros(2, batch_size, self.hidden_size, device=device), torch.zeros(2, batch_size, self.hidden_size, device=device))\n",
    "    \n",
    "class DecoderRNN(nn.Module):\n",
    "    def __init__(self, hidden_size, output_size):\n",
    "        super(DecoderRNN, self).__init__()\n",
    "        self.hidden_size = hidden_size\n",
    "\n",
    "        self.bn = nn.BatchNorm1d(n_phones)\n",
    "        self.gru = nn.LSTM(output_size, hidden_size, bidirectional = False, num_layers = 2, dropout = 0.2)\n",
    "        self.out = nn.Linear(hidden_size, output_size)\n",
    "\n",
    "    def forward(self, inp, hidden):\n",
    "        output = self.bn(inp.squeeze(0))\n",
    "        output, hidden = self.gru(output.view(1, batch_size, -1), hidden)\n",
    "        output = self.out(output[0])\n",
    "        return output, hidden\n",
    "    \n",
    "encoder = EncoderRNN(n_chars, n_hidden).to(device)\n",
    "decoder = DecoderRNN(n_hidden, n_phones).to(device)\n",
    "\n",
    "encoder_optimizer = torch.optim.Adam(encoder.parameters(), lr=0.001)\n",
    "decoder_optimizer = torch.optim.Adam(decoder.parameters(), lr=0.001)"
   ]
  },
  {
   "cell_type": "code",
   "execution_count": 5,
   "metadata": {},
   "outputs": [],
   "source": [
    "def train(input_tensor, target_tensor, max_length=max_wordlen):\n",
    "    criterion = nn.CrossEntropyLoss(ignore_index = 0)\n",
    "    encoder_hidden = encoder.initHidden()\n",
    "    \n",
    "    encoder_optimizer.zero_grad()\n",
    "    decoder_optimizer.zero_grad()\n",
    "\n",
    "    #input_length = input_tensor.size(0)\n",
    "    #target_length = target_tensor.size(0)\n",
    "\n",
    "    loss = 0\n",
    "\n",
    "    #for ei in range(input_length):\n",
    "    encoder_output, encoder_hidden = encoder(input_tensor, encoder_hidden)\n",
    "        \n",
    "    sos = torch.zeros(1, batch_size, n_phones)\n",
    "    for i in range (batch_size):\n",
    "        sos[0][i][1] = 1\n",
    "    sos = sos.to(device)\n",
    "    \n",
    "    decoder_input = sos\n",
    "\n",
    "    decoder_hidden = encoder_hidden\n",
    "\n",
    "    decoder_output, decoder_hidden = decoder(decoder_input, decoder_hidden)\n",
    "    \n",
    "    target_tensor, target_lengths = nn.utils.rnn.pad_packed_sequence(target_tensor, padding_value=0)\n",
    "    \n",
    "    target_length, _ = torch.max(target_lengths, 0)\n",
    "    target_length = target_length.item()\n",
    "    \n",
    "    #print('szz')\n",
    "    #print(encoder_hidden[0].size())\n",
    "    #print(target_tensor.size())\n",
    "    \n",
    "    for di in range(target_length):\n",
    "        decoder_output, decoder_hidden = decoder(decoder_input, decoder_hidden)\n",
    "        loss += criterion(decoder_output, torch.max(target_tensor[di, :, :], 1)[1])\n",
    "        #print(\"decoder\")\n",
    "        #print(decoder_output)\n",
    "        #print(\"target\")\n",
    "        #print(torch.max(target_tensor[di, :, :], 1)[1])\n",
    "        decoder_input = target_tensor[di, :, :]\n",
    "    \n",
    "    #print(decoder_output.size())\n",
    "    #print(nn.utils.rnn.pad_packed_sequence(target_tensor, batch_first = True)[0].size())\n",
    "\n",
    "    loss.backward()\n",
    "\n",
    "    encoder_optimizer.step()\n",
    "    decoder_optimizer.step()\n",
    "\n",
    "    return loss.item() / target_length"
   ]
  },
  {
   "cell_type": "code",
   "execution_count": 6,
   "metadata": {},
   "outputs": [],
   "source": [
    "import math\n",
    "\n",
    "\n",
    "def asMinutes(s):\n",
    "    m = math.floor(s / 60)\n",
    "    s -= m * 60\n",
    "    return '%dm %ds' % (m, s)\n",
    "\n",
    "\n",
    "def timeSince(since, percent):\n",
    "    now = time.time()\n",
    "    s = now - since\n",
    "    es = s / (percent)\n",
    "    rs = es - s\n",
    "    return '%s (- %s)' % (asMinutes(s), asMinutes(rs))"
   ]
  },
  {
   "cell_type": "code",
   "execution_count": 7,
   "metadata": {},
   "outputs": [],
   "source": [
    "def trainIters(encoder, decoder, print_every=1000, learning_rate=0.001, batch_size = 256):\n",
    "    start = time.time()\n",
    "    plot_losses = []\n",
    "    print_loss_total = 0  \n",
    "    plot_loss_total = 0  \n",
    "    \n",
    "    training_pairs = [pairTensor(i)\n",
    "                      for i in tqdm(range(len(data)))]\n",
    "    \n",
    "    random.shuffle(training_pairs)\n",
    "\n",
    "    for iter in range(1, ((len(data) + 1) // batch_size - 1)):\n",
    "        input_tensor = [word[0] for word in training_pairs[(iter - 1) * batch_size : iter * batch_size]]\n",
    "        input_tensor.sort(key=len, reverse = True)\n",
    "        input_tensor = nn.utils.rnn.pack_sequence(input_tensor)\n",
    "        \n",
    "        target_tensor = [word[1] for word in training_pairs[(iter - 1) * batch_size : iter * batch_size]]\n",
    "        target_tensor.sort(key=len, reverse = True)\n",
    "        target_tensor = nn.utils.rnn.pack_sequence(target_tensor)\n",
    "        \n",
    "        loss = train(input_tensor.to(device), target_tensor.to(device))\n",
    "        print_loss_total += loss\n",
    "        plot_loss_total += loss\n",
    "\n",
    "        if iter % print_every == 0:\n",
    "            print_loss_avg = print_loss_total / print_every\n",
    "            print_loss_total = 0\n",
    "            print('%s (%d %d%%) %.4f' % (timeSince(start, iter * batch_size / len(data)),\n",
    "                                         iter * batch_size, iter * batch_size / len(data) * 100, print_loss_avg))"
   ]
  },
  {
   "cell_type": "code",
   "execution_count": 8,
   "metadata": {},
   "outputs": [],
   "source": [
    "import matplotlib.pyplot as plt\n",
    "plt.switch_backend('agg')\n",
    "import matplotlib.ticker as ticker\n",
    "import numpy as np\n",
    "\n",
    "\n",
    "def showPlot(points):\n",
    "    plt.figure()\n",
    "    fig, ax = plt.subplots()\n",
    "    loc = ticker.MultipleLocator(base=0.2)\n",
    "    ax.yaxis.set_major_locator(loc)\n",
    "    plt.plot(points)"
   ]
  },
  {
   "cell_type": "code",
   "execution_count": 9,
   "metadata": {},
   "outputs": [
    {
     "name": "stdout",
     "output_type": "stream",
     "text": [
      "Epoch 1\n"
     ]
    },
    {
     "data": {
      "application/vnd.jupyter.widget-view+json": {
       "model_id": "911e6f32cf7a46acb6089c11eaa2d4dc",
       "version_major": 2,
       "version_minor": 0
      },
      "text/plain": [
       "HBox(children=(IntProgress(value=0, max=83194), HTML(value='')))"
      ]
     },
     "metadata": {},
     "output_type": "display_data"
    },
    {
     "name": "stdout",
     "output_type": "stream",
     "text": [
      "\n",
      "0m 15s (- 0m 35s) (25600 30%) 1.1584\n",
      "0m 24s (- 0m 15s) (51200 61%) 0.9620\n",
      "0m 33s (- 0m 2s) (76800 92%) 0.8706\n",
      "Epoch 2\n"
     ]
    },
    {
     "data": {
      "application/vnd.jupyter.widget-view+json": {
       "model_id": "2721a021e0014046a2a00f3980d33c5f",
       "version_major": 2,
       "version_minor": 0
      },
      "text/plain": [
       "HBox(children=(IntProgress(value=0, max=83194), HTML(value='')))"
      ]
     },
     "metadata": {},
     "output_type": "display_data"
    },
    {
     "name": "stdout",
     "output_type": "stream",
     "text": [
      "\n",
      "0m 15s (- 0m 35s) (25600 30%) 0.8300\n",
      "0m 24s (- 0m 15s) (51200 61%) 0.8007\n",
      "0m 33s (- 0m 2s) (76800 92%) 0.7728\n",
      "Epoch 3\n"
     ]
    },
    {
     "data": {
      "application/vnd.jupyter.widget-view+json": {
       "model_id": "c5a27c5dad874555b8e2d10bb2557e71",
       "version_major": 2,
       "version_minor": 0
      },
      "text/plain": [
       "HBox(children=(IntProgress(value=0, max=83194), HTML(value='')))"
      ]
     },
     "metadata": {},
     "output_type": "display_data"
    },
    {
     "name": "stdout",
     "output_type": "stream",
     "text": [
      "\n",
      "0m 15s (- 0m 34s) (25600 30%) 0.7643\n",
      "0m 24s (- 0m 15s) (51200 61%) 0.7522\n",
      "0m 33s (- 0m 2s) (76800 92%) 0.7344\n",
      "Epoch 4\n"
     ]
    },
    {
     "data": {
      "application/vnd.jupyter.widget-view+json": {
       "model_id": "113f7b1d48f24457a3e6c3a74cf410e7",
       "version_major": 2,
       "version_minor": 0
      },
      "text/plain": [
       "HBox(children=(IntProgress(value=0, max=83194), HTML(value='')))"
      ]
     },
     "metadata": {},
     "output_type": "display_data"
    },
    {
     "name": "stdout",
     "output_type": "stream",
     "text": [
      "\n",
      "0m 16s (- 0m 36s) (25600 30%) 0.7122\n",
      "0m 24s (- 0m 15s) (51200 61%) 0.7177\n",
      "0m 33s (- 0m 2s) (76800 92%) 0.7185\n",
      "Epoch 5\n"
     ]
    },
    {
     "data": {
      "application/vnd.jupyter.widget-view+json": {
       "model_id": "1dd79591de1e4e6f916dfdc7db6079f8",
       "version_major": 2,
       "version_minor": 0
      },
      "text/plain": [
       "HBox(children=(IntProgress(value=0, max=83194), HTML(value='')))"
      ]
     },
     "metadata": {},
     "output_type": "display_data"
    },
    {
     "name": "stdout",
     "output_type": "stream",
     "text": [
      "\n",
      "0m 15s (- 0m 34s) (25600 30%) 0.6976\n",
      "0m 24s (- 0m 15s) (51200 61%) 0.6980\n",
      "0m 34s (- 0m 2s) (76800 92%) 0.6946\n",
      "Epoch 6\n"
     ]
    },
    {
     "data": {
      "application/vnd.jupyter.widget-view+json": {
       "model_id": "4a947de948234c8a8d617bb921d96291",
       "version_major": 2,
       "version_minor": 0
      },
      "text/plain": [
       "HBox(children=(IntProgress(value=0, max=83194), HTML(value='')))"
      ]
     },
     "metadata": {},
     "output_type": "display_data"
    },
    {
     "name": "stdout",
     "output_type": "stream",
     "text": [
      "\n",
      "0m 15s (- 0m 34s) (25600 30%) 0.6778\n",
      "0m 24s (- 0m 15s) (51200 61%) 0.6792\n",
      "0m 32s (- 0m 2s) (76800 92%) 0.6842\n",
      "Epoch 7\n"
     ]
    },
    {
     "data": {
      "application/vnd.jupyter.widget-view+json": {
       "model_id": "e66f3994588b49999b09f09113fa8d39",
       "version_major": 2,
       "version_minor": 0
      },
      "text/plain": [
       "HBox(children=(IntProgress(value=0, max=83194), HTML(value='')))"
      ]
     },
     "metadata": {},
     "output_type": "display_data"
    },
    {
     "name": "stdout",
     "output_type": "stream",
     "text": [
      "\n",
      "0m 15s (- 0m 33s) (25600 30%) 0.6765\n",
      "0m 23s (- 0m 14s) (51200 61%) 0.6661\n",
      "0m 32s (- 0m 2s) (76800 92%) 0.6664\n",
      "Epoch 8\n"
     ]
    },
    {
     "data": {
      "application/vnd.jupyter.widget-view+json": {
       "model_id": "9e11cd214d4549339f1f721345f2d8fa",
       "version_major": 2,
       "version_minor": 0
      },
      "text/plain": [
       "HBox(children=(IntProgress(value=0, max=83194), HTML(value='')))"
      ]
     },
     "metadata": {},
     "output_type": "display_data"
    },
    {
     "name": "stdout",
     "output_type": "stream",
     "text": [
      "\n",
      "0m 15s (- 0m 35s) (25600 30%) 0.6588\n",
      "0m 24s (- 0m 15s) (51200 61%) 0.6543\n",
      "0m 33s (- 0m 2s) (76800 92%) 0.6604\n",
      "Epoch 9\n"
     ]
    },
    {
     "data": {
      "application/vnd.jupyter.widget-view+json": {
       "model_id": "924597c85fbd4029977c65fcc7cee1c9",
       "version_major": 2,
       "version_minor": 0
      },
      "text/plain": [
       "HBox(children=(IntProgress(value=0, max=83194), HTML(value='')))"
      ]
     },
     "metadata": {},
     "output_type": "display_data"
    },
    {
     "name": "stdout",
     "output_type": "stream",
     "text": [
      "\n",
      "0m 15s (- 0m 34s) (25600 30%) 0.6479\n",
      "0m 24s (- 0m 15s) (51200 61%) 0.6438\n",
      "0m 32s (- 0m 2s) (76800 92%) 0.6518\n",
      "Epoch 10\n"
     ]
    },
    {
     "data": {
      "application/vnd.jupyter.widget-view+json": {
       "model_id": "169ff9fa068e4b36b44333d9e17a1087",
       "version_major": 2,
       "version_minor": 0
      },
      "text/plain": [
       "HBox(children=(IntProgress(value=0, max=83194), HTML(value='')))"
      ]
     },
     "metadata": {},
     "output_type": "display_data"
    },
    {
     "name": "stdout",
     "output_type": "stream",
     "text": [
      "\n",
      "0m 15s (- 0m 33s) (25600 30%) 0.6456\n",
      "0m 23s (- 0m 14s) (51200 61%) 0.6356\n",
      "0m 32s (- 0m 2s) (76800 92%) 0.6418\n",
      "Epoch 11\n"
     ]
    },
    {
     "data": {
      "application/vnd.jupyter.widget-view+json": {
       "model_id": "53f327be83334a2bb78afe94400816e4",
       "version_major": 2,
       "version_minor": 0
      },
      "text/plain": [
       "HBox(children=(IntProgress(value=0, max=83194), HTML(value='')))"
      ]
     },
     "metadata": {},
     "output_type": "display_data"
    },
    {
     "name": "stdout",
     "output_type": "stream",
     "text": [
      "\n",
      "0m 15s (- 0m 34s) (25600 30%) 0.6323\n",
      "0m 23s (- 0m 14s) (51200 61%) 0.6344\n",
      "0m 32s (- 0m 2s) (76800 92%) 0.6365\n",
      "Epoch 12\n"
     ]
    },
    {
     "data": {
      "application/vnd.jupyter.widget-view+json": {
       "model_id": "0977738e5c6f46458ddf4e20eab3851e",
       "version_major": 2,
       "version_minor": 0
      },
      "text/plain": [
       "HBox(children=(IntProgress(value=0, max=83194), HTML(value='')))"
      ]
     },
     "metadata": {},
     "output_type": "display_data"
    },
    {
     "name": "stdout",
     "output_type": "stream",
     "text": [
      "\n",
      "0m 15s (- 0m 34s) (25600 30%) 0.6188\n",
      "0m 24s (- 0m 15s) (51200 61%) 0.6326\n",
      "0m 32s (- 0m 2s) (76800 92%) 0.6342\n",
      "Epoch 13\n"
     ]
    },
    {
     "data": {
      "application/vnd.jupyter.widget-view+json": {
       "model_id": "bc5cbe0d3a9847d58ca56970d3cd82b1",
       "version_major": 2,
       "version_minor": 0
      },
      "text/plain": [
       "HBox(children=(IntProgress(value=0, max=83194), HTML(value='')))"
      ]
     },
     "metadata": {},
     "output_type": "display_data"
    },
    {
     "name": "stdout",
     "output_type": "stream",
     "text": [
      "\n",
      "0m 15s (- 0m 34s) (25600 30%) 0.6219\n",
      "0m 23s (- 0m 14s) (51200 61%) 0.6208\n",
      "0m 32s (- 0m 2s) (76800 92%) 0.6170\n",
      "Epoch 14\n"
     ]
    },
    {
     "data": {
      "application/vnd.jupyter.widget-view+json": {
       "model_id": "9b9dd460c6de45368864f59390c7fd5a",
       "version_major": 2,
       "version_minor": 0
      },
      "text/plain": [
       "HBox(children=(IntProgress(value=0, max=83194), HTML(value='')))"
      ]
     },
     "metadata": {},
     "output_type": "display_data"
    },
    {
     "name": "stdout",
     "output_type": "stream",
     "text": [
      "\n",
      "0m 15s (- 0m 34s) (25600 30%) 0.6136\n",
      "0m 23s (- 0m 14s) (51200 61%) 0.6236\n",
      "0m 32s (- 0m 2s) (76800 92%) 0.6184\n",
      "Epoch 15\n"
     ]
    },
    {
     "data": {
      "application/vnd.jupyter.widget-view+json": {
       "model_id": "79470c11a7f949ff9a60c2fa4abc0e56",
       "version_major": 2,
       "version_minor": 0
      },
      "text/plain": [
       "HBox(children=(IntProgress(value=0, max=83194), HTML(value='')))"
      ]
     },
     "metadata": {},
     "output_type": "display_data"
    },
    {
     "name": "stdout",
     "output_type": "stream",
     "text": [
      "\n",
      "0m 15s (- 0m 35s) (25600 30%) 0.6088\n",
      "0m 24s (- 0m 15s) (51200 61%) 0.6060\n",
      "0m 33s (- 0m 2s) (76800 92%) 0.6127\n",
      "Epoch 16\n"
     ]
    },
    {
     "data": {
      "application/vnd.jupyter.widget-view+json": {
       "model_id": "e20802bee7c34cf8a1c062530db29513",
       "version_major": 2,
       "version_minor": 0
      },
      "text/plain": [
       "HBox(children=(IntProgress(value=0, max=83194), HTML(value='')))"
      ]
     },
     "metadata": {},
     "output_type": "display_data"
    },
    {
     "name": "stdout",
     "output_type": "stream",
     "text": [
      "\n",
      "0m 15s (- 0m 34s) (25600 30%) 0.6077\n",
      "0m 24s (- 0m 15s) (51200 61%) 0.6013\n",
      "0m 32s (- 0m 2s) (76800 92%) 0.6173\n",
      "Epoch 17\n"
     ]
    },
    {
     "data": {
      "application/vnd.jupyter.widget-view+json": {
       "model_id": "20f24f1ed58f4e0ca5e24b8b13578e0e",
       "version_major": 2,
       "version_minor": 0
      },
      "text/plain": [
       "HBox(children=(IntProgress(value=0, max=83194), HTML(value='')))"
      ]
     },
     "metadata": {},
     "output_type": "display_data"
    },
    {
     "name": "stdout",
     "output_type": "stream",
     "text": [
      "\n",
      "0m 15s (- 0m 34s) (25600 30%) 0.5968\n",
      "0m 24s (- 0m 15s) (51200 61%) 0.5994\n",
      "0m 33s (- 0m 2s) (76800 92%) 0.6032\n",
      "Epoch 18\n"
     ]
    },
    {
     "data": {
      "application/vnd.jupyter.widget-view+json": {
       "model_id": "cd03c773b56b43cfbb72466224c2eb6c",
       "version_major": 2,
       "version_minor": 0
      },
      "text/plain": [
       "HBox(children=(IntProgress(value=0, max=83194), HTML(value='')))"
      ]
     },
     "metadata": {},
     "output_type": "display_data"
    },
    {
     "name": "stdout",
     "output_type": "stream",
     "text": [
      "\n",
      "0m 15s (- 0m 34s) (25600 30%) 0.5947\n",
      "0m 24s (- 0m 15s) (51200 61%) 0.5936\n",
      "0m 33s (- 0m 2s) (76800 92%) 0.5973\n",
      "Epoch 19\n"
     ]
    },
    {
     "data": {
      "application/vnd.jupyter.widget-view+json": {
       "model_id": "57accfe80f084c9abe1e8cb45bf6feab",
       "version_major": 2,
       "version_minor": 0
      },
      "text/plain": [
       "HBox(children=(IntProgress(value=0, max=83194), HTML(value='')))"
      ]
     },
     "metadata": {},
     "output_type": "display_data"
    },
    {
     "name": "stdout",
     "output_type": "stream",
     "text": [
      "\n",
      "0m 16s (- 0m 36s) (25600 30%) 0.5932\n",
      "0m 25s (- 0m 15s) (51200 61%) 0.5945\n",
      "0m 34s (- 0m 2s) (76800 92%) 0.5987\n",
      "Epoch 20\n"
     ]
    },
    {
     "data": {
      "application/vnd.jupyter.widget-view+json": {
       "model_id": "26ec030f5eab408981874c4a57f2fba7",
       "version_major": 2,
       "version_minor": 0
      },
      "text/plain": [
       "HBox(children=(IntProgress(value=0, max=83194), HTML(value='')))"
      ]
     },
     "metadata": {},
     "output_type": "display_data"
    },
    {
     "name": "stdout",
     "output_type": "stream",
     "text": [
      "\n",
      "0m 16s (- 0m 36s) (25600 30%) 0.5858\n",
      "0m 24s (- 0m 15s) (51200 61%) 0.5969\n",
      "0m 34s (- 0m 2s) (76800 92%) 0.5911\n",
      "Epoch 21\n"
     ]
    },
    {
     "data": {
      "application/vnd.jupyter.widget-view+json": {
       "model_id": "64b6eaeb56994ed787f5d17b945866c7",
       "version_major": 2,
       "version_minor": 0
      },
      "text/plain": [
       "HBox(children=(IntProgress(value=0, max=83194), HTML(value='')))"
      ]
     },
     "metadata": {},
     "output_type": "display_data"
    },
    {
     "name": "stdout",
     "output_type": "stream",
     "text": [
      "\n",
      "0m 15s (- 0m 34s) (25600 30%) 0.5887\n",
      "0m 23s (- 0m 14s) (51200 61%) 0.5896\n",
      "0m 32s (- 0m 2s) (76800 92%) 0.5886\n",
      "Epoch 22\n"
     ]
    },
    {
     "data": {
      "application/vnd.jupyter.widget-view+json": {
       "model_id": "358a49c11b514301b52fd611db4efc86",
       "version_major": 2,
       "version_minor": 0
      },
      "text/plain": [
       "HBox(children=(IntProgress(value=0, max=83194), HTML(value='')))"
      ]
     },
     "metadata": {},
     "output_type": "display_data"
    },
    {
     "name": "stdout",
     "output_type": "stream",
     "text": [
      "\n",
      "0m 15s (- 0m 34s) (25600 30%) 0.5888\n",
      "0m 24s (- 0m 15s) (51200 61%) 0.5884\n",
      "0m 32s (- 0m 2s) (76800 92%) 0.5834\n",
      "Epoch 23\n"
     ]
    },
    {
     "data": {
      "application/vnd.jupyter.widget-view+json": {
       "model_id": "414fe369b9d24fa090d617c2c3daaab9",
       "version_major": 2,
       "version_minor": 0
      },
      "text/plain": [
       "HBox(children=(IntProgress(value=0, max=83194), HTML(value='')))"
      ]
     },
     "metadata": {},
     "output_type": "display_data"
    },
    {
     "name": "stdout",
     "output_type": "stream",
     "text": [
      "\n",
      "0m 15s (- 0m 34s) (25600 30%) 0.5803\n",
      "0m 24s (- 0m 14s) (51200 61%) 0.5868\n",
      "0m 32s (- 0m 2s) (76800 92%) 0.5859\n",
      "Epoch 24\n"
     ]
    },
    {
     "data": {
      "application/vnd.jupyter.widget-view+json": {
       "model_id": "8650e80ebe3e4efb94930ebb94813d4a",
       "version_major": 2,
       "version_minor": 0
      },
      "text/plain": [
       "HBox(children=(IntProgress(value=0, max=83194), HTML(value='')))"
      ]
     },
     "metadata": {},
     "output_type": "display_data"
    },
    {
     "name": "stdout",
     "output_type": "stream",
     "text": [
      "\n",
      "0m 15s (- 0m 34s) (25600 30%) 0.5841\n",
      "0m 24s (- 0m 15s) (51200 61%) 0.5795\n",
      "0m 33s (- 0m 2s) (76800 92%) 0.5763\n",
      "Epoch 25\n"
     ]
    },
    {
     "data": {
      "application/vnd.jupyter.widget-view+json": {
       "model_id": "d289d96cab614f778f575bfbd8bd0f72",
       "version_major": 2,
       "version_minor": 0
      },
      "text/plain": [
       "HBox(children=(IntProgress(value=0, max=83194), HTML(value='')))"
      ]
     },
     "metadata": {},
     "output_type": "display_data"
    },
    {
     "name": "stdout",
     "output_type": "stream",
     "text": [
      "\n",
      "0m 15s (- 0m 35s) (25600 30%) 0.5792\n",
      "0m 24s (- 0m 15s) (51200 61%) 0.5796\n",
      "0m 33s (- 0m 2s) (76800 92%) 0.5829\n",
      "Epoch 26\n"
     ]
    },
    {
     "data": {
      "application/vnd.jupyter.widget-view+json": {
       "model_id": "b602d7a9068e4743873fd8eeb7c06cfb",
       "version_major": 2,
       "version_minor": 0
      },
      "text/plain": [
       "HBox(children=(IntProgress(value=0, max=83194), HTML(value='')))"
      ]
     },
     "metadata": {},
     "output_type": "display_data"
    },
    {
     "name": "stdout",
     "output_type": "stream",
     "text": [
      "\n",
      "0m 15s (- 0m 34s) (25600 30%) 0.5749\n",
      "0m 24s (- 0m 15s) (51200 61%) 0.5838\n",
      "0m 32s (- 0m 2s) (76800 92%) 0.5746\n",
      "Epoch 27\n"
     ]
    },
    {
     "data": {
      "application/vnd.jupyter.widget-view+json": {
       "model_id": "6f138e5b5dc0457fb5d582c581dfeb69",
       "version_major": 2,
       "version_minor": 0
      },
      "text/plain": [
       "HBox(children=(IntProgress(value=0, max=83194), HTML(value='')))"
      ]
     },
     "metadata": {},
     "output_type": "display_data"
    },
    {
     "name": "stdout",
     "output_type": "stream",
     "text": [
      "\n",
      "0m 15s (- 0m 34s) (25600 30%) 0.5697\n",
      "0m 24s (- 0m 15s) (51200 61%) 0.5708\n",
      "0m 33s (- 0m 2s) (76800 92%) 0.5808\n",
      "Epoch 28\n"
     ]
    },
    {
     "data": {
      "application/vnd.jupyter.widget-view+json": {
       "model_id": "6f7fb1c5ef3f4449b018a7f6edc19aaf",
       "version_major": 2,
       "version_minor": 0
      },
      "text/plain": [
       "HBox(children=(IntProgress(value=0, max=83194), HTML(value='')))"
      ]
     },
     "metadata": {},
     "output_type": "display_data"
    },
    {
     "name": "stdout",
     "output_type": "stream",
     "text": [
      "\n",
      "0m 15s (- 0m 35s) (25600 30%) 0.5642\n",
      "0m 24s (- 0m 15s) (51200 61%) 0.5754\n",
      "0m 33s (- 0m 2s) (76800 92%) 0.5815\n",
      "Epoch 29\n"
     ]
    },
    {
     "data": {
      "application/vnd.jupyter.widget-view+json": {
       "model_id": "2d69f74a920a44c3952a51eb1e329a7c",
       "version_major": 2,
       "version_minor": 0
      },
      "text/plain": [
       "HBox(children=(IntProgress(value=0, max=83194), HTML(value='')))"
      ]
     },
     "metadata": {},
     "output_type": "display_data"
    },
    {
     "name": "stdout",
     "output_type": "stream",
     "text": [
      "\n",
      "0m 15s (- 0m 34s) (25600 30%) 0.5687\n",
      "0m 24s (- 0m 15s) (51200 61%) 0.5707\n",
      "0m 33s (- 0m 2s) (76800 92%) 0.5710\n",
      "Epoch 30\n"
     ]
    },
    {
     "data": {
      "application/vnd.jupyter.widget-view+json": {
       "model_id": "24538fab57fa4f30a7a0456cab9dc910",
       "version_major": 2,
       "version_minor": 0
      },
      "text/plain": [
       "HBox(children=(IntProgress(value=0, max=83194), HTML(value='')))"
      ]
     },
     "metadata": {},
     "output_type": "display_data"
    },
    {
     "name": "stdout",
     "output_type": "stream",
     "text": [
      "\n",
      "0m 15s (- 0m 34s) (25600 30%) 0.5634\n",
      "0m 24s (- 0m 15s) (51200 61%) 0.5706\n",
      "0m 33s (- 0m 2s) (76800 92%) 0.5764\n",
      "Epoch 31\n"
     ]
    },
    {
     "data": {
      "application/vnd.jupyter.widget-view+json": {
       "model_id": "da02db29ceaf469a9717fd2a97460f43",
       "version_major": 2,
       "version_minor": 0
      },
      "text/plain": [
       "HBox(children=(IntProgress(value=0, max=83194), HTML(value='')))"
      ]
     },
     "metadata": {},
     "output_type": "display_data"
    },
    {
     "name": "stdout",
     "output_type": "stream",
     "text": [
      "\n",
      "0m 15s (- 0m 35s) (25600 30%) 0.5659\n",
      "0m 25s (- 0m 15s) (51200 61%) 0.5684\n",
      "0m 33s (- 0m 2s) (76800 92%) 0.5687\n",
      "Epoch 32\n"
     ]
    },
    {
     "data": {
      "application/vnd.jupyter.widget-view+json": {
       "model_id": "f8e80bc40d3c47b2b980c49d58c4ba17",
       "version_major": 2,
       "version_minor": 0
      },
      "text/plain": [
       "HBox(children=(IntProgress(value=0, max=83194), HTML(value='')))"
      ]
     },
     "metadata": {},
     "output_type": "display_data"
    },
    {
     "name": "stdout",
     "output_type": "stream",
     "text": [
      "\n",
      "0m 15s (- 0m 35s) (25600 30%) 0.5650\n",
      "0m 25s (- 0m 15s) (51200 61%) 0.5694\n",
      "0m 35s (- 0m 2s) (76800 92%) 0.5706\n",
      "Epoch 33\n"
     ]
    },
    {
     "data": {
      "application/vnd.jupyter.widget-view+json": {
       "model_id": "8a50289d27c0438b9157d800c59e9636",
       "version_major": 2,
       "version_minor": 0
      },
      "text/plain": [
       "HBox(children=(IntProgress(value=0, max=83194), HTML(value='')))"
      ]
     },
     "metadata": {},
     "output_type": "display_data"
    },
    {
     "name": "stdout",
     "output_type": "stream",
     "text": [
      "\n",
      "0m 16s (- 0m 36s) (25600 30%) 0.5557\n",
      "0m 25s (- 0m 15s) (51200 61%) 0.5686\n",
      "0m 33s (- 0m 2s) (76800 92%) 0.5667\n",
      "Epoch 34\n"
     ]
    },
    {
     "data": {
      "application/vnd.jupyter.widget-view+json": {
       "model_id": "3477f0fee89246348e26eaebfc2b236e",
       "version_major": 2,
       "version_minor": 0
      },
      "text/plain": [
       "HBox(children=(IntProgress(value=0, max=83194), HTML(value='')))"
      ]
     },
     "metadata": {},
     "output_type": "display_data"
    },
    {
     "name": "stdout",
     "output_type": "stream",
     "text": [
      "\n",
      "0m 16s (- 0m 36s) (25600 30%) 0.5587\n",
      "0m 25s (- 0m 15s) (51200 61%) 0.5630\n",
      "0m 34s (- 0m 2s) (76800 92%) 0.5717\n",
      "Epoch 35\n"
     ]
    },
    {
     "data": {
      "application/vnd.jupyter.widget-view+json": {
       "model_id": "071a390827894b2e93e482e1ad9e0c61",
       "version_major": 2,
       "version_minor": 0
      },
      "text/plain": [
       "HBox(children=(IntProgress(value=0, max=83194), HTML(value='')))"
      ]
     },
     "metadata": {},
     "output_type": "display_data"
    },
    {
     "name": "stdout",
     "output_type": "stream",
     "text": [
      "\n",
      "0m 16s (- 0m 36s) (25600 30%) 0.5561\n",
      "0m 25s (- 0m 16s) (51200 61%) 0.5628\n",
      "0m 35s (- 0m 2s) (76800 92%) 0.5713\n",
      "Epoch 36\n"
     ]
    },
    {
     "data": {
      "application/vnd.jupyter.widget-view+json": {
       "model_id": "8e92130d1db04286a14f4e800f66fddb",
       "version_major": 2,
       "version_minor": 0
      },
      "text/plain": [
       "HBox(children=(IntProgress(value=0, max=83194), HTML(value='')))"
      ]
     },
     "metadata": {},
     "output_type": "display_data"
    },
    {
     "name": "stdout",
     "output_type": "stream",
     "text": [
      "\n",
      "0m 16s (- 0m 36s) (25600 30%) 0.5600\n",
      "0m 25s (- 0m 15s) (51200 61%) 0.5604\n",
      "0m 34s (- 0m 2s) (76800 92%) 0.5626\n",
      "Epoch 37\n"
     ]
    },
    {
     "data": {
      "application/vnd.jupyter.widget-view+json": {
       "model_id": "9135c991b17942769cd1dc087b2fcd51",
       "version_major": 2,
       "version_minor": 0
      },
      "text/plain": [
       "HBox(children=(IntProgress(value=0, max=83194), HTML(value='')))"
      ]
     },
     "metadata": {},
     "output_type": "display_data"
    },
    {
     "name": "stdout",
     "output_type": "stream",
     "text": [
      "\n",
      "0m 16s (- 0m 36s) (25600 30%) 0.5658\n",
      "0m 25s (- 0m 15s) (51200 61%) 0.5611\n",
      "0m 34s (- 0m 2s) (76800 92%) 0.5575\n",
      "Epoch 38\n"
     ]
    },
    {
     "data": {
      "application/vnd.jupyter.widget-view+json": {
       "model_id": "9c9ca135469b4ae789dc046c033820fa",
       "version_major": 2,
       "version_minor": 0
      },
      "text/plain": [
       "HBox(children=(IntProgress(value=0, max=83194), HTML(value='')))"
      ]
     },
     "metadata": {},
     "output_type": "display_data"
    },
    {
     "name": "stdout",
     "output_type": "stream",
     "text": [
      "\n",
      "0m 16s (- 0m 38s) (25600 30%) 0.5547\n",
      "0m 26s (- 0m 16s) (51200 61%) 0.5587\n",
      "0m 35s (- 0m 2s) (76800 92%) 0.5597\n",
      "Epoch 39\n"
     ]
    },
    {
     "data": {
      "application/vnd.jupyter.widget-view+json": {
       "model_id": "f6f25499f15b402aa96b22946b5b1aee",
       "version_major": 2,
       "version_minor": 0
      },
      "text/plain": [
       "HBox(children=(IntProgress(value=0, max=83194), HTML(value='')))"
      ]
     },
     "metadata": {},
     "output_type": "display_data"
    },
    {
     "name": "stdout",
     "output_type": "stream",
     "text": [
      "\n",
      "0m 15s (- 0m 35s) (25600 30%) 0.5498\n",
      "0m 25s (- 0m 15s) (51200 61%) 0.5524\n",
      "0m 35s (- 0m 2s) (76800 92%) 0.5598\n",
      "Epoch 40\n"
     ]
    },
    {
     "data": {
      "application/vnd.jupyter.widget-view+json": {
       "model_id": "f31e0e63c1684611885153c7eb255df0",
       "version_major": 2,
       "version_minor": 0
      },
      "text/plain": [
       "HBox(children=(IntProgress(value=0, max=83194), HTML(value='')))"
      ]
     },
     "metadata": {},
     "output_type": "display_data"
    },
    {
     "name": "stdout",
     "output_type": "stream",
     "text": [
      "\n",
      "0m 16s (- 0m 37s) (25600 30%) 0.5533\n",
      "0m 25s (- 0m 16s) (51200 61%) 0.5589\n",
      "0m 35s (- 0m 2s) (76800 92%) 0.5507\n",
      "Epoch 41\n"
     ]
    },
    {
     "data": {
      "application/vnd.jupyter.widget-view+json": {
       "model_id": "a2ed247fc5b54e3db492cc1f711568f1",
       "version_major": 2,
       "version_minor": 0
      },
      "text/plain": [
       "HBox(children=(IntProgress(value=0, max=83194), HTML(value='')))"
      ]
     },
     "metadata": {},
     "output_type": "display_data"
    },
    {
     "name": "stdout",
     "output_type": "stream",
     "text": [
      "\n",
      "0m 15s (- 0m 35s) (25600 30%) 0.5531\n",
      "0m 24s (- 0m 15s) (51200 61%) 0.5538\n",
      "0m 34s (- 0m 2s) (76800 92%) 0.5613\n",
      "Epoch 42\n"
     ]
    },
    {
     "data": {
      "application/vnd.jupyter.widget-view+json": {
       "model_id": "8bbeaea28a9a4f5d9160cc3ded70df1d",
       "version_major": 2,
       "version_minor": 0
      },
      "text/plain": [
       "HBox(children=(IntProgress(value=0, max=83194), HTML(value='')))"
      ]
     },
     "metadata": {},
     "output_type": "display_data"
    },
    {
     "name": "stdout",
     "output_type": "stream",
     "text": [
      "\n"
     ]
    },
    {
     "ename": "KeyboardInterrupt",
     "evalue": "",
     "output_type": "error",
     "traceback": [
      "\u001b[0;31m---------------------------------------------------------------------------\u001b[0m",
      "\u001b[0;31mKeyboardInterrupt\u001b[0m                         Traceback (most recent call last)",
      "\u001b[0;32m<ipython-input-9-6c648c006676>\u001b[0m in \u001b[0;36m<module>\u001b[0;34m\u001b[0m\n\u001b[1;32m      3\u001b[0m \u001b[0;32mfor\u001b[0m \u001b[0mi\u001b[0m \u001b[0;32min\u001b[0m \u001b[0mrange\u001b[0m\u001b[0;34m(\u001b[0m\u001b[0mn_epochs\u001b[0m\u001b[0;34m)\u001b[0m\u001b[0;34m:\u001b[0m\u001b[0;34m\u001b[0m\u001b[0;34m\u001b[0m\u001b[0m\n\u001b[1;32m      4\u001b[0m     \u001b[0mprint\u001b[0m\u001b[0;34m(\u001b[0m\u001b[0;34m\"Epoch %d\"\u001b[0m \u001b[0;34m%\u001b[0m \u001b[0;34m(\u001b[0m\u001b[0mi\u001b[0m \u001b[0;34m+\u001b[0m \u001b[0;36m1\u001b[0m\u001b[0;34m)\u001b[0m\u001b[0;34m)\u001b[0m\u001b[0;34m\u001b[0m\u001b[0;34m\u001b[0m\u001b[0m\n\u001b[0;32m----> 5\u001b[0;31m     \u001b[0mtrainIters\u001b[0m\u001b[0;34m(\u001b[0m\u001b[0mencoder\u001b[0m\u001b[0;34m,\u001b[0m \u001b[0mdecoder\u001b[0m\u001b[0;34m,\u001b[0m \u001b[0mprint_every\u001b[0m \u001b[0;34m=\u001b[0m \u001b[0;36m200\u001b[0m\u001b[0;34m,\u001b[0m \u001b[0mbatch_size\u001b[0m \u001b[0;34m=\u001b[0m \u001b[0mbatch_size\u001b[0m\u001b[0;34m)\u001b[0m\u001b[0;34m\u001b[0m\u001b[0;34m\u001b[0m\u001b[0m\n\u001b[0m",
      "\u001b[0;32m<ipython-input-7-478819e3c22e>\u001b[0m in \u001b[0;36mtrainIters\u001b[0;34m(encoder, decoder, print_every, learning_rate, batch_size)\u001b[0m\n\u001b[1;32m     19\u001b[0m         \u001b[0mtarget_tensor\u001b[0m \u001b[0;34m=\u001b[0m \u001b[0mnn\u001b[0m\u001b[0;34m.\u001b[0m\u001b[0mutils\u001b[0m\u001b[0;34m.\u001b[0m\u001b[0mrnn\u001b[0m\u001b[0;34m.\u001b[0m\u001b[0mpack_sequence\u001b[0m\u001b[0;34m(\u001b[0m\u001b[0mtarget_tensor\u001b[0m\u001b[0;34m)\u001b[0m\u001b[0;34m\u001b[0m\u001b[0;34m\u001b[0m\u001b[0m\n\u001b[1;32m     20\u001b[0m \u001b[0;34m\u001b[0m\u001b[0m\n\u001b[0;32m---> 21\u001b[0;31m         \u001b[0mloss\u001b[0m \u001b[0;34m=\u001b[0m \u001b[0mtrain\u001b[0m\u001b[0;34m(\u001b[0m\u001b[0minput_tensor\u001b[0m\u001b[0;34m.\u001b[0m\u001b[0mto\u001b[0m\u001b[0;34m(\u001b[0m\u001b[0mdevice\u001b[0m\u001b[0;34m)\u001b[0m\u001b[0;34m,\u001b[0m \u001b[0mtarget_tensor\u001b[0m\u001b[0;34m.\u001b[0m\u001b[0mto\u001b[0m\u001b[0;34m(\u001b[0m\u001b[0mdevice\u001b[0m\u001b[0;34m)\u001b[0m\u001b[0;34m)\u001b[0m\u001b[0;34m\u001b[0m\u001b[0;34m\u001b[0m\u001b[0m\n\u001b[0m\u001b[1;32m     22\u001b[0m         \u001b[0mprint_loss_total\u001b[0m \u001b[0;34m+=\u001b[0m \u001b[0mloss\u001b[0m\u001b[0;34m\u001b[0m\u001b[0;34m\u001b[0m\u001b[0m\n\u001b[1;32m     23\u001b[0m         \u001b[0mplot_loss_total\u001b[0m \u001b[0;34m+=\u001b[0m \u001b[0mloss\u001b[0m\u001b[0;34m\u001b[0m\u001b[0;34m\u001b[0m\u001b[0m\n",
      "\u001b[0;32m<ipython-input-5-cacabeea9b65>\u001b[0m in \u001b[0;36mtrain\u001b[0;34m(input_tensor, target_tensor, max_length)\u001b[0m\n\u001b[1;32m     36\u001b[0m     \u001b[0;32mfor\u001b[0m \u001b[0mdi\u001b[0m \u001b[0;32min\u001b[0m \u001b[0mrange\u001b[0m\u001b[0;34m(\u001b[0m\u001b[0mtarget_length\u001b[0m\u001b[0;34m)\u001b[0m\u001b[0;34m:\u001b[0m\u001b[0;34m\u001b[0m\u001b[0;34m\u001b[0m\u001b[0m\n\u001b[1;32m     37\u001b[0m         \u001b[0mdecoder_output\u001b[0m\u001b[0;34m,\u001b[0m \u001b[0mdecoder_hidden\u001b[0m \u001b[0;34m=\u001b[0m \u001b[0mdecoder\u001b[0m\u001b[0;34m(\u001b[0m\u001b[0mdecoder_input\u001b[0m\u001b[0;34m,\u001b[0m \u001b[0mdecoder_hidden\u001b[0m\u001b[0;34m)\u001b[0m\u001b[0;34m\u001b[0m\u001b[0;34m\u001b[0m\u001b[0m\n\u001b[0;32m---> 38\u001b[0;31m         \u001b[0mloss\u001b[0m \u001b[0;34m+=\u001b[0m \u001b[0mcriterion\u001b[0m\u001b[0;34m(\u001b[0m\u001b[0mdecoder_output\u001b[0m\u001b[0;34m,\u001b[0m \u001b[0mtorch\u001b[0m\u001b[0;34m.\u001b[0m\u001b[0mmax\u001b[0m\u001b[0;34m(\u001b[0m\u001b[0mtarget_tensor\u001b[0m\u001b[0;34m[\u001b[0m\u001b[0mdi\u001b[0m\u001b[0;34m,\u001b[0m \u001b[0;34m:\u001b[0m\u001b[0;34m,\u001b[0m \u001b[0;34m:\u001b[0m\u001b[0;34m]\u001b[0m\u001b[0;34m,\u001b[0m \u001b[0;36m1\u001b[0m\u001b[0;34m)\u001b[0m\u001b[0;34m[\u001b[0m\u001b[0;36m1\u001b[0m\u001b[0;34m]\u001b[0m\u001b[0;34m)\u001b[0m\u001b[0;34m\u001b[0m\u001b[0;34m\u001b[0m\u001b[0m\n\u001b[0m\u001b[1;32m     39\u001b[0m         \u001b[0;31m#print(\"decoder\")\u001b[0m\u001b[0;34m\u001b[0m\u001b[0;34m\u001b[0m\u001b[0;34m\u001b[0m\u001b[0m\n\u001b[1;32m     40\u001b[0m         \u001b[0;31m#print(decoder_output)\u001b[0m\u001b[0;34m\u001b[0m\u001b[0;34m\u001b[0m\u001b[0;34m\u001b[0m\u001b[0m\n",
      "\u001b[0;31mKeyboardInterrupt\u001b[0m: "
     ]
    }
   ],
   "source": [
    "n_epochs = 100\n",
    "\n",
    "for i in range(n_epochs):\n",
    "    print(\"Epoch %d\" % (i + 1))\n",
    "    trainIters(encoder, decoder, print_every = 200, batch_size = batch_size)"
   ]
  },
  {
   "cell_type": "code",
   "execution_count": 14,
   "metadata": {},
   "outputs": [],
   "source": [
    "batch_size = 1\n",
    "\n",
    "def evaluate(encoder, decoder, sentence, max_length=max_wordlen):\n",
    "    encoder.eval()\n",
    "    decoder.eval()\n",
    "    \n",
    "    with torch.no_grad():\n",
    "        input_tensor = wordToTensor(sentence).to(device)\n",
    "        input_length = input_tensor.size()[0]\n",
    "        encoder_hidden = encoder.initHidden()\n",
    "\n",
    "        for ei in range(input_length):\n",
    "            encoder_output, encoder_hidden = encoder(input_tensor[ei].view(1, 1, -1),\n",
    "                                                     encoder_hidden)\n",
    "\n",
    "        sos = torch.zeros(1, 1, n_phones)\n",
    "        sos[0][0][1] = 1\n",
    "        sos = sos.to(device)\n",
    "    \n",
    "        decoder_input = sos\n",
    "    \n",
    "        decoder_hidden = encoder_hidden\n",
    "\n",
    "        decoded_chars = []\n",
    "\n",
    "        for di in range(max_length):\n",
    "            decoder_output, decoder_hidden = decoder(\n",
    "            decoder_input, decoder_hidden)\n",
    "            \n",
    "            topv, topi = decoder_output.data.topk(1)\n",
    "            \n",
    "            if topi.item() == 2:\n",
    "                break\n",
    "            else:\n",
    "                decoded_chars.append(rev_phonedict[topi.item() - 3])\n",
    "            \n",
    "            decoder_input = torch.zeros(1, 1, n_phones)\n",
    "            decoder_input[0][0][topi.item()] = 1\n",
    "            decoder_input = decoder_input.to(device)\n",
    "            \n",
    "        print(sentence)\n",
    "        print(\"_\".join(decoded_chars))\n",
    "        return \"_\".join(decoded_chars)"
   ]
  },
  {
   "cell_type": "code",
   "execution_count": 15,
   "metadata": {},
   "outputs": [
    {
     "name": "stdout",
     "output_type": "stream",
     "text": [
      "LEMIEUX\n",
      "K_S_EH_L_IH_NG\n",
      "MINDING\n",
      "K_S_EH_L_IH_NG\n",
      "STRIPED\n",
      "K_S_EH_L_IH_NG\n",
      "KEN\n",
      "K_L_AO\n",
      "CONFERENCE\n",
      "K_S_EH_L_AH_N_S_T_IY_Z\n",
      "IMMOLATE\n",
      "K_S_EH_L_AH_N_T_S\n",
      "TRANSGRESS\n",
      "K_S_EH_L_AH_N_S_T_IY_Z\n",
      "RABBLE\n",
      "K_S_EH_L_ER_Z\n",
      "AIRSHARE\n",
      "K_S_EH_L_AH_N_T_S\n",
      "INTOLERANCE\n",
      "K_S_EH_L_AH_N_T_IY_S_AH_N\n",
      "ILVA\n",
      "K_B_R_IY\n",
      "RYGEL\n",
      "K_S_IY_N_IY\n",
      "MARLETTE\n",
      "K_S_EH_L_AH_N_T_S\n",
      "DILDO\n",
      "K_S_IY_N_IY\n",
      "ORELIA\n",
      "K_S_EH_L_ER_Z\n",
      "MCNISH\n",
      "K_S_EH_L_ER_Z\n",
      "FURBISHED\n",
      "K_S_EH_L_AH_N_T_IY\n",
      "COMFED\n",
      "K_S_EH_L_ER_Z\n",
      "WALKENHORST\n",
      "K_S_EH_L_AH_N_T_R_IY_AH_L\n",
      "MILLIRONS\n",
      "K_S_EH_L_AH_N_T_IY\n",
      "JERE\n",
      "K_B_R_IY\n",
      "LIVAN'S\n",
      "K_S_EH_L_IH_NG\n",
      "PREVIEW\n",
      "K_S_EH_L_IH_NG\n",
      "GRAYING\n",
      "K_S_EH_L_IH_NG\n",
      "KU\n",
      "K_AH\n",
      "FREEHOLD\n",
      "K_S_EH_L_AH_N_T_S\n",
      "CONCA\n",
      "K_S_IY_N_IY\n",
      "TECK'S\n",
      "K_S_EH_L_ER_Z\n",
      "QUINTER\n",
      "K_S_EH_L_IH_NG\n",
      "CIRCUMSTANTIAL\n",
      "K_K_AA_N_T_ER_M_IH_L_Y_AH_N_EH_R\n",
      "RYDELL\n",
      "K_S_EH_L_ER_Z\n",
      "ROTOTILLER\n",
      "K_S_EH_L_AH_N_S_T_IY_Z\n",
      "HAVINGTON'S\n",
      "K_S_IH_M_AH_N_AH_L_AY_Z_D\n",
      "DECALS\n",
      "K_S_EH_L_ER_Z\n",
      "DIBATTISTA\n",
      "K_S_EH_L_AH_N_T_IY_Z\n",
      "RAVI'S\n",
      "K_S_EH_L_ER_Z\n",
      "INTERCEPTING\n",
      "K_K_AA_N_T_ER_M_EH_N_T_AH_L\n",
      "FROMMELT\n",
      "K_S_EH_L_AH_N_T_S\n",
      "ACCOMPANIED\n",
      "K_S_IH_M_AH_N_AH_L_AY_Z_D\n",
      "WHOLESALING\n",
      "K_S_IH_M_AH_N_AH_L_AY_Z_D\n"
     ]
    }
   ],
   "source": [
    "for i in range(40):\n",
    "    evaluate(encoder, decoder, data[i].split(' ')[0])"
   ]
  },
  {
   "cell_type": "code",
   "execution_count": null,
   "metadata": {},
   "outputs": [],
   "source": [
    "import pandas as pd\n",
    "\n",
    "test = pd.read_csv('test.csv')\n",
    "test_x = test['Word'].tolist()"
   ]
  },
  {
   "cell_type": "code",
   "execution_count": null,
   "metadata": {},
   "outputs": [],
   "source": [
    "test_y = [evaluate(encoder, decoder, word) for word in tqdm(test_x)]\n",
    "print(test_y)"
   ]
  },
  {
   "cell_type": "code",
   "execution_count": null,
   "metadata": {},
   "outputs": [],
   "source": [
    "test.rename(columns={'Word':'Transcription'}, inplace=True) \n",
    "test['Transcription'] = test_y"
   ]
  },
  {
   "cell_type": "code",
   "execution_count": null,
   "metadata": {},
   "outputs": [],
   "source": [
    "test.to_csv(\"lstm_one_hot_2_layer_6_epochs.csv\",index=False)"
   ]
  },
  {
   "cell_type": "code",
   "execution_count": null,
   "metadata": {},
   "outputs": [],
   "source": []
  }
 ],
 "metadata": {
  "kernelspec": {
   "display_name": "Python 3",
   "language": "python",
   "name": "python3"
  },
  "language_info": {
   "codemirror_mode": {
    "name": "ipython",
    "version": 3
   },
   "file_extension": ".py",
   "mimetype": "text/x-python",
   "name": "python",
   "nbconvert_exporter": "python",
   "pygments_lexer": "ipython3",
   "version": "3.7.2"
  }
 },
 "nbformat": 4,
 "nbformat_minor": 2
}
